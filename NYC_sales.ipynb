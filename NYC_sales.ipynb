{
 "cells": [
  {
   "cell_type": "markdown",
   "id": "10ca58ee",
   "metadata": {},
   "source": [
    "## New York City property sales project\n",
    "\n",
    "The goal of this analysis is to get a general idea of how sales of properties differ from 2021 to now and how they are distributed among the five boroughs. We will also pull an additional dataset about vacancy to get an idea of the number of vacancies per borough. "
   ]
  },
  {
   "cell_type": "code",
   "execution_count": 1,
   "id": "fa45333e",
   "metadata": {},
   "outputs": [],
   "source": [
    "# import necessary libraries \n",
    "\n",
    "import requests\n",
    "from urllib.request import urlretrieve\n",
    "import pandas as pd\n",
    "import matplotlib.pyplot as plt\n",
    "from matplotlib.pyplot import figure\n",
    "import seaborn as sns\n",
    "import numpy as np\n",
    "from bs4 import BeautifulSoup"
   ]
  },
  {
   "cell_type": "markdown",
   "id": "998fcfed",
   "metadata": {},
   "source": [
    "First, before looking at any other data, we can look at some general metrics that will allow us to get an overview of the boroughs of New York City. This information can be found at https://livabilityindex.aarp.org.\n"
   ]
  },
  {
   "cell_type": "code",
   "execution_count": 2,
   "id": "31928b2f",
   "metadata": {},
   "outputs": [
    {
     "data": {
      "text/html": [
       "<div>\n",
       "<style scoped>\n",
       "    .dataframe tbody tr th:only-of-type {\n",
       "        vertical-align: middle;\n",
       "    }\n",
       "\n",
       "    .dataframe tbody tr th {\n",
       "        vertical-align: top;\n",
       "    }\n",
       "\n",
       "    .dataframe thead th {\n",
       "        text-align: right;\n",
       "    }\n",
       "</style>\n",
       "<table border=\"1\" class=\"dataframe\">\n",
       "  <thead>\n",
       "    <tr style=\"text-align: right;\">\n",
       "      <th></th>\n",
       "      <th>boroughs</th>\n",
       "      <th>populations</th>\n",
       "      <th>median_income</th>\n",
       "      <th>livability_index</th>\n",
       "    </tr>\n",
       "  </thead>\n",
       "  <tbody>\n",
       "    <tr>\n",
       "      <th>0</th>\n",
       "      <td>manhattan</td>\n",
       "      <td>1631993</td>\n",
       "      <td>102108</td>\n",
       "      <td>65</td>\n",
       "    </tr>\n",
       "    <tr>\n",
       "      <th>4</th>\n",
       "      <td>statenisland</td>\n",
       "      <td>474893</td>\n",
       "      <td>89241</td>\n",
       "      <td>61</td>\n",
       "    </tr>\n",
       "    <tr>\n",
       "      <th>3</th>\n",
       "      <td>queens</td>\n",
       "      <td>2287388</td>\n",
       "      <td>73332</td>\n",
       "      <td>61</td>\n",
       "    </tr>\n",
       "    <tr>\n",
       "      <th>2</th>\n",
       "      <td>brooklyn</td>\n",
       "      <td>2589974</td>\n",
       "      <td>68375</td>\n",
       "      <td>65</td>\n",
       "    </tr>\n",
       "    <tr>\n",
       "      <th>1</th>\n",
       "      <td>bronx</td>\n",
       "      <td>1435068</td>\n",
       "      <td>46505</td>\n",
       "      <td>63</td>\n",
       "    </tr>\n",
       "  </tbody>\n",
       "</table>\n",
       "</div>"
      ],
      "text/plain": [
       "       boroughs  populations  median_income  livability_index\n",
       "0     manhattan      1631993         102108                65\n",
       "4  statenisland       474893          89241                61\n",
       "3        queens      2287388          73332                61\n",
       "2      brooklyn      2589974          68375                65\n",
       "1         bronx      1435068          46505                63"
      ]
     },
     "execution_count": 2,
     "metadata": {},
     "output_type": "execute_result"
    }
   ],
   "source": [
    "boroughs = ['manhattan','bronx','brooklyn','queens','statenisland']\n",
    "populations = [1631993,1435068,2589974,2287388,474893]\n",
    "median_income = [102108,46505,68375,73332,89241]\n",
    "livability_index = [65,63,65,61,61]\n",
    "intro_info = pd.DataFrame({'boroughs':boroughs,'populations':populations,'median_income':median_income,\n",
    "             'livability_index':livability_index})\n",
    "intro_info.sort_values(by='median_income', ascending=False)"
   ]
  },
  {
   "cell_type": "markdown",
   "id": "f57b4da2",
   "metadata": {},
   "source": [
    "All of the data we will be looking at in this project is labeled with one of the five boroughs of New York City: Manhattan, Bronx, Brooklyn, Queens, Staten Island. The highest income area is Manhattan, so we probably expect the highest mean sales price to be there, and the lowest mean sales price for Bronx. Queens and Brooklyn have the highest populations but that may not mean highest volume of sales because the dataset includes commercial buildings, which may concentrate in Manhattan."
   ]
  },
  {
   "cell_type": "markdown",
   "id": "2cfa2292",
   "metadata": {},
   "source": [
    "# Rolling Sales Data\n",
    "The Department of Finance’s Rolling Sales files lists properties that sold in the last twelve-month period in New York City for tax class 1, 2, and 4.  These files include:\n",
    "\n",
    "the neighborhood;\n",
    "building type;\n",
    "square footage;\n",
    "other data."
   ]
  },
  {
   "cell_type": "code",
   "execution_count": 3,
   "id": "25696777",
   "metadata": {},
   "outputs": [],
   "source": [
    "## Gather all the URLs where the files are, and the file names for retrieval\n",
    "\n",
    "url_man_rolling = 'https://www1.nyc.gov/assets/finance/downloads/pdf/rolling_sales/rollingsales_manhattan.xlsx'\n",
    "url_brx_rolling = 'https://www1.nyc.gov/assets/finance/downloads/pdf/rolling_sales/rollingsales_bronx.xlsx'\n",
    "url_bry_rolling = 'https://www1.nyc.gov/assets/finance/downloads/pdf/rolling_sales/rollingsales_brooklyn.xlsx'\n",
    "url_que_rolling = 'https://www1.nyc.gov/assets/finance/downloads/pdf/rolling_sales/rollingsales_queens.xlsx'\n",
    "url_sta_rolling = 'https://www1.nyc.gov/assets/finance/downloads/pdf/rolling_sales/rollingsales_statenisland.xlsx'\n",
    "\n",
    "urls = [url_man_rolling,url_brx_rolling,url_bry_rolling,url_que_rolling,url_sta_rolling]\n",
    "\n",
    "file_man = 'rollingsales_manhattan.xlsx'\n",
    "file_brx = 'rollingsales_bronx.xlsx'\n",
    "file_bry = 'rollingsales_brooklyn.xlsx'\n",
    "file_que = 'rollingsales_queens.xlsx'\n",
    "file_sta = 'rollingsales_statenisland.xlsx'\n",
    "\n",
    "filename = [file_man,file_brx,file_bry,file_que,file_sta]\n",
    "\n",
    "\n",
    "for i in range(5):\n",
    "    urlretrieve(urls[i],filename[i])"
   ]
  },
  {
   "cell_type": "code",
   "execution_count": 4,
   "id": "dd281844",
   "metadata": {},
   "outputs": [],
   "source": [
    "#Load data from files for all 5 Boroughs \n",
    "\n",
    "df_man_roll = pd.read_excel('rollingsales_manhattan.xlsx',header=4)\n",
    "df_brx_roll = pd.read_excel('rollingsales_bronx.xlsx',header=4)\n",
    "df_bry_roll = pd.read_excel('rollingsales_brooklyn.xlsx',header=4)\n",
    "df_que_roll = pd.read_excel('rollingsales_queens.xlsx',header=4)\n",
    "df_sta_roll = pd.read_excel('rollingsales_statenisland.xlsx',header=4)\n"
   ]
  },
  {
   "cell_type": "markdown",
   "id": "b6fe1a73",
   "metadata": {},
   "source": [
    "## Clean data\n",
    "\n",
    "Data comes in 5 batches for the 5 boroughs of New York City, in the next few steps we are going to combine the data and then clean and format"
   ]
  },
  {
   "cell_type": "code",
   "execution_count": 5,
   "id": "1ac717af",
   "metadata": {},
   "outputs": [
    {
     "data": {
      "text/plain": [
       "98270"
      ]
     },
     "execution_count": 5,
     "metadata": {},
     "output_type": "execute_result"
    }
   ],
   "source": [
    "#combine all borough data into one\n",
    "\n",
    "#borough key: 1:'manhattan', 2:'bronx', 3:'brooklyn', 4:'queens', 5:'statenisland'\n",
    "\n",
    "rolling_sales = pd.concat([df_man_roll,df_brx_roll,df_bry_roll,df_que_roll,df_sta_roll])\n",
    "\n",
    "rolling_sales['BOROUGH'].count()\n",
    "\n",
    "# How many rows of data do we have?"
   ]
  },
  {
   "cell_type": "code",
   "execution_count": 8,
   "id": "8e6f23d9",
   "metadata": {},
   "outputs": [],
   "source": [
    "# Extract only sales for year 2022, 2021 sales will come in later in another file \n",
    "\n",
    "sales_22 = rolling_sales[rolling_sales['SALE DATE'].dt.year == 2022]\n"
   ]
  },
  {
   "cell_type": "code",
   "execution_count": 10,
   "id": "d55e4f65",
   "metadata": {},
   "outputs": [
    {
     "name": "stdout",
     "output_type": "stream",
     "text": [
      "<class 'pandas.core.frame.DataFrame'>\n",
      "Int64Index: 34867 entries, 2 to 9085\n",
      "Data columns (total 21 columns):\n",
      " #   Column                          Non-Null Count  Dtype         \n",
      "---  ------                          --------------  -----         \n",
      " 0   BOROUGH                         34867 non-null  int64         \n",
      " 1   NEIGHBORHOOD                    34867 non-null  object        \n",
      " 2   BUILDING CLASS CATEGORY         34867 non-null  object        \n",
      " 3   TAX CLASS AT PRESENT            34813 non-null  object        \n",
      " 4   BLOCK                           34867 non-null  int64         \n",
      " 5   LOT                             34867 non-null  int64         \n",
      " 6   EASEMENT                        0 non-null      float64       \n",
      " 7   BUILDING CLASS AT PRESENT       34813 non-null  object        \n",
      " 8   ADDRESS                         34867 non-null  object        \n",
      " 9   APARTMENT NUMBER                8813 non-null   object        \n",
      " 10  ZIP CODE                        34866 non-null  float64       \n",
      " 11  RESIDENTIAL UNITS               26257 non-null  float64       \n",
      " 12  COMMERCIAL UNITS                19491 non-null  float64       \n",
      " 13  TOTAL UNITS                     27317 non-null  float64       \n",
      " 14  LAND SQUARE FEET                18431 non-null  float64       \n",
      " 15  GROSS SQUARE FEET               18431 non-null  float64       \n",
      " 16  YEAR BUILT                      32411 non-null  float64       \n",
      " 17  TAX CLASS AT TIME OF SALE       34867 non-null  int64         \n",
      " 18  BUILDING CLASS AT TIME OF SALE  34867 non-null  object        \n",
      " 19  SALE PRICE                      34867 non-null  int64         \n",
      " 20  SALE DATE                       34867 non-null  datetime64[ns]\n",
      "dtypes: datetime64[ns](1), float64(8), int64(5), object(7)\n",
      "memory usage: 5.9+ MB\n"
     ]
    }
   ],
   "source": [
    "#Easement column is empty\n",
    "\n",
    "#the type for columns need to be changed to categorical for alot of columns\n",
    "\n",
    "sales_22.info()"
   ]
  },
  {
   "cell_type": "code",
   "execution_count": 11,
   "id": "61b35817",
   "metadata": {},
   "outputs": [
    {
     "name": "stdout",
     "output_type": "stream",
     "text": [
      "<class 'pandas.core.frame.DataFrame'>\n",
      "Int64Index: 34867 entries, 2 to 9085\n",
      "Data columns (total 21 columns):\n",
      " #   Column                          Non-Null Count  Dtype         \n",
      "---  ------                          --------------  -----         \n",
      " 0   BOROUGH                         34867 non-null  category      \n",
      " 1   NEIGHBORHOOD                    34867 non-null  object        \n",
      " 2   BUILDING CLASS CATEGORY         34867 non-null  category      \n",
      " 3   TAX CLASS AT PRESENT            34813 non-null  category      \n",
      " 4   BLOCK                           34867 non-null  category      \n",
      " 5   LOT                             34867 non-null  category      \n",
      " 6   EASEMENT                        0 non-null      float64       \n",
      " 7   BUILDING CLASS AT PRESENT       34813 non-null  category      \n",
      " 8   ADDRESS                         34867 non-null  object        \n",
      " 9   APARTMENT NUMBER                8813 non-null   object        \n",
      " 10  ZIP CODE                        34866 non-null  category      \n",
      " 11  RESIDENTIAL UNITS               26257 non-null  float64       \n",
      " 12  COMMERCIAL UNITS                19491 non-null  float64       \n",
      " 13  TOTAL UNITS                     27317 non-null  float64       \n",
      " 14  LAND SQUARE FEET                18431 non-null  float64       \n",
      " 15  GROSS SQUARE FEET               18431 non-null  float64       \n",
      " 16  YEAR BUILT                      32411 non-null  category      \n",
      " 17  TAX CLASS AT TIME OF SALE       34867 non-null  category      \n",
      " 18  BUILDING CLASS AT TIME OF SALE  34867 non-null  category      \n",
      " 19  SALE PRICE                      34867 non-null  int64         \n",
      " 20  SALE DATE                       34867 non-null  datetime64[ns]\n",
      "dtypes: category(10), datetime64[ns](1), float64(6), int64(1), object(3)\n",
      "memory usage: 4.1+ MB\n"
     ]
    },
    {
     "name": "stderr",
     "output_type": "stream",
     "text": [
      "/var/folders/76/ytg4_01s0zj0zkszt775_g3h0000gn/T/ipykernel_21448/3274903180.py:7: SettingWithCopyWarning: \n",
      "A value is trying to be set on a copy of a slice from a DataFrame.\n",
      "Try using .loc[row_indexer,col_indexer] = value instead\n",
      "\n",
      "See the caveats in the documentation: https://pandas.pydata.org/pandas-docs/stable/user_guide/indexing.html#returning-a-view-versus-a-copy\n",
      "  sales_22[colname] = sales_22[colname].astype('category')\n"
     ]
    }
   ],
   "source": [
    "#Change type to category for columns that are categorical\n",
    "\n",
    "obj_cats = ['BUILDING CLASS CATEGORY','TAX CLASS AT PRESENT','TAX CLASS AT TIME OF SALE','BOROUGH',\n",
    "            'BUILDING CLASS AT TIME OF SALE','BUILDING CLASS AT PRESENT','BLOCK','LOT','ZIP CODE','YEAR BUILT']\n",
    "\n",
    "for colname in obj_cats:\n",
    "    sales_22[colname] = sales_22[colname].astype('category') \n",
    "\n",
    "\n",
    "sales_22.info()"
   ]
  },
  {
   "cell_type": "code",
   "execution_count": 12,
   "id": "47252553",
   "metadata": {},
   "outputs": [
    {
     "data": {
      "text/plain": [
       "Index(['borough', 'neighborhood', 'building_class_category',\n",
       "       'tax_class_at_present', 'block', 'lot', 'easement',\n",
       "       'building_class_at_present', 'address', 'apartment_number', 'zip_code',\n",
       "       'residential_units', 'commercial_units', 'total_units',\n",
       "       'land_square_feet', 'gross_square_feet', 'year_built',\n",
       "       'tax_class_at_time_of_sale', 'building_class_at_time_of_sale',\n",
       "       'sale_price', 'sale_date'],\n",
       "      dtype='object')"
      ]
     },
     "execution_count": 12,
     "metadata": {},
     "output_type": "execute_result"
    }
   ],
   "source": [
    "#Formatting:  column names switched to lower case and and no spaces\n",
    "\n",
    "sales_22.columns = sales_22.columns.str.lower()\n",
    "sales_22.columns = sales_22.columns.str.replace(\" \", \"_\")\n",
    "sales_22.columns"
   ]
  },
  {
   "cell_type": "code",
   "execution_count": 13,
   "id": "3e11a9eb",
   "metadata": {},
   "outputs": [
    {
     "name": "stderr",
     "output_type": "stream",
     "text": [
      "/Users/snoopymartinmar/opt/anaconda3/lib/python3.9/site-packages/pandas/core/frame.py:4906: SettingWithCopyWarning: \n",
      "A value is trying to be set on a copy of a slice from a DataFrame\n",
      "\n",
      "See the caveats in the documentation: https://pandas.pydata.org/pandas-docs/stable/user_guide/indexing.html#returning-a-view-versus-a-copy\n",
      "  return super().drop(\n"
     ]
    },
    {
     "data": {
      "text/plain": [
       "Index(['borough', 'neighborhood', 'building_class_category',\n",
       "       'tax_class_at_present', 'block', 'lot', 'building_class_at_present',\n",
       "       'address', 'apartment_number', 'zip_code', 'residential_units',\n",
       "       'commercial_units', 'total_units', 'land_square_feet',\n",
       "       'gross_square_feet', 'year_built', 'tax_class_at_time_of_sale',\n",
       "       'building_class_at_time_of_sale', 'sale_price', 'sale_date'],\n",
       "      dtype='object')"
      ]
     },
     "execution_count": 13,
     "metadata": {},
     "output_type": "execute_result"
    }
   ],
   "source": [
    "#drop empty column of easement\n",
    "\n",
    "sales_22.drop(columns='easement',inplace=True)\n",
    "sales_22.columns"
   ]
  },
  {
   "cell_type": "code",
   "execution_count": 14,
   "id": "30b7d063",
   "metadata": {},
   "outputs": [
    {
     "data": {
      "text/html": [
       "<div>\n",
       "<style scoped>\n",
       "    .dataframe tbody tr th:only-of-type {\n",
       "        vertical-align: middle;\n",
       "    }\n",
       "\n",
       "    .dataframe tbody tr th {\n",
       "        vertical-align: top;\n",
       "    }\n",
       "\n",
       "    .dataframe thead th {\n",
       "        text-align: right;\n",
       "    }\n",
       "</style>\n",
       "<table border=\"1\" class=\"dataframe\">\n",
       "  <thead>\n",
       "    <tr style=\"text-align: right;\">\n",
       "      <th></th>\n",
       "      <th>count</th>\n",
       "      <th>mean</th>\n",
       "      <th>std</th>\n",
       "      <th>min</th>\n",
       "      <th>25%</th>\n",
       "      <th>50%</th>\n",
       "      <th>75%</th>\n",
       "      <th>max</th>\n",
       "    </tr>\n",
       "  </thead>\n",
       "  <tbody>\n",
       "    <tr>\n",
       "      <th>sale_price</th>\n",
       "      <td>34,867.000000</td>\n",
       "      <td>1,556,578.843692</td>\n",
       "      <td>13,716,696.327449</td>\n",
       "      <td>0.000000</td>\n",
       "      <td>0.000000</td>\n",
       "      <td>620,000.000000</td>\n",
       "      <td>1,135,000.000000</td>\n",
       "      <td>931,000,000.000000</td>\n",
       "    </tr>\n",
       "  </tbody>\n",
       "</table>\n",
       "</div>"
      ],
      "text/plain": [
       "                    count              mean                std       min  \\\n",
       "sale_price  34,867.000000  1,556,578.843692  13,716,696.327449  0.000000   \n",
       "\n",
       "                 25%             50%               75%                 max  \n",
       "sale_price  0.000000  620,000.000000  1,135,000.000000  931,000,000.000000  "
      ]
     },
     "execution_count": 14,
     "metadata": {},
     "output_type": "execute_result"
    }
   ],
   "source": [
    "# Look at overall shape of the numbers \n",
    "\n",
    "sales_22[['sale_price']].describe().apply(lambda s: s.apply('{0:,f}'.format)).transpose()"
   ]
  },
  {
   "cell_type": "markdown",
   "id": "4eb18bac",
   "metadata": {},
   "source": [
    "## Sales prices 2022 summary statistics\n",
    "\n",
    "Prices vary a large amount. There are a significant amount of 0 dollar sales, and some sales reaching close to a billion dollars. We will have to separate and drop those 0 dollar sales because they do not represent the value of the property."
   ]
  },
  {
   "cell_type": "code",
   "execution_count": 15,
   "id": "5505e7f6",
   "metadata": {},
   "outputs": [
    {
     "data": {
      "text/plain": [
       "36"
      ]
     },
     "execution_count": 15,
     "metadata": {},
     "output_type": "execute_result"
    }
   ],
   "source": [
    "# How many sales are 100million or more?\n",
    "\n",
    "high_sales = sales_22[sales_22['sale_price']>99999999]\n",
    "high_sales['sale_price'].count()"
   ]
  },
  {
   "cell_type": "code",
   "execution_count": 16,
   "id": "1e0ec31c",
   "metadata": {},
   "outputs": [
    {
     "data": {
      "text/plain": [
       "8930"
      ]
     },
     "execution_count": 16,
     "metadata": {},
     "output_type": "execute_result"
    }
   ],
   "source": [
    "#A $0 sale indicates that there was a transfer of ownership without a cash consideration.\n",
    "\n",
    "# How many sales are $0 dollar transactions?\n",
    "\n",
    "zero_22_sales = sales_22[sales_22['sale_price'] == 0]\n",
    "zero_22_sales['sale_price'].count()"
   ]
  },
  {
   "cell_type": "code",
   "execution_count": 17,
   "id": "0f2c2dc9",
   "metadata": {},
   "outputs": [
    {
     "data": {
      "text/plain": [
       "395"
      ]
     },
     "execution_count": 17,
     "metadata": {},
     "output_type": "execute_result"
    }
   ],
   "source": [
    "# There are sales under a thousand dollars that are suspeciously low\n",
    "\n",
    "low_22_sales = sales_22[sales_22['sale_price'].between(1,999)]\n",
    "\n",
    "## difference between $0-999 and just $0\n",
    "\n",
    "low_22_sales['borough'].count()"
   ]
  },
  {
   "cell_type": "markdown",
   "id": "20e25574",
   "metadata": {},
   "source": [
    "We can be fairly certain that 0 and under a thousand dollar sales prices do not represent the actual value of the building. We are going to separate the 0 and <1000 dollar sales prices for the rest of our data that may more accurately represent the value of the properties in the data set."
   ]
  },
  {
   "cell_type": "code",
   "execution_count": 18,
   "id": "f880a21a",
   "metadata": {},
   "outputs": [],
   "source": [
    "sales_22 = sales_22[~sales_22['sale_price'].between(0,999)]"
   ]
  },
  {
   "cell_type": "code",
   "execution_count": 19,
   "id": "30683d31",
   "metadata": {},
   "outputs": [],
   "source": [
    "# We are going to reset the index so that it enumerates correctly\n",
    "\n",
    "sales_22.reset_index(inplace=True, drop=True)"
   ]
  },
  {
   "cell_type": "code",
   "execution_count": 20,
   "id": "6e9db411",
   "metadata": {},
   "outputs": [],
   "source": [
    "# We can add a month column so that we can more easily visualize data moving on\n",
    "\n",
    "sales_22['sale_month'] = sales_22.loc[:,'sale_date'].dt.to_period('M')"
   ]
  },
  {
   "cell_type": "code",
   "execution_count": 21,
   "id": "be076634",
   "metadata": {
    "scrolled": true
   },
   "outputs": [
    {
     "data": {
      "text/plain": [
       "borough                            0.000000\n",
       "neighborhood                       0.000000\n",
       "building_class_category            0.000000\n",
       "tax_class_at_present               0.211416\n",
       "block                              0.000000\n",
       "lot                                0.000000\n",
       "building_class_at_present          0.211416\n",
       "address                            0.000000\n",
       "apartment_number                  70.785373\n",
       "zip_code                           0.003915\n",
       "residential_units                 29.872367\n",
       "commercial_units                  52.490016\n",
       "total_units                       26.458382\n",
       "land_square_feet                  55.904001\n",
       "gross_square_feet                 55.904001\n",
       "year_built                         7.250803\n",
       "tax_class_at_time_of_sale          0.000000\n",
       "building_class_at_time_of_sale     0.000000\n",
       "sale_price                         0.000000\n",
       "sale_date                          0.000000\n",
       "sale_month                         0.000000\n",
       "dtype: float64"
      ]
     },
     "execution_count": 21,
     "metadata": {},
     "output_type": "execute_result"
    }
   ],
   "source": [
    "# What percentage of rows is na for each column\n",
    "\n",
    "sales_22.isnull().sum()/len(sales_22)*100"
   ]
  },
  {
   "cell_type": "markdown",
   "id": "b53b82a7",
   "metadata": {},
   "source": [
    "Now that we have taken out sales prices that we suspect are not representative of the real value of the building, we can again look at the sale prices:"
   ]
  },
  {
   "cell_type": "code",
   "execution_count": 99,
   "id": "23af0344",
   "metadata": {},
   "outputs": [
    {
     "data": {
      "text/html": [
       "<div>\n",
       "<style scoped>\n",
       "    .dataframe tbody tr th:only-of-type {\n",
       "        vertical-align: middle;\n",
       "    }\n",
       "\n",
       "    .dataframe tbody tr th {\n",
       "        vertical-align: top;\n",
       "    }\n",
       "\n",
       "    .dataframe thead th {\n",
       "        text-align: right;\n",
       "    }\n",
       "</style>\n",
       "<table border=\"1\" class=\"dataframe\">\n",
       "  <thead>\n",
       "    <tr style=\"text-align: right;\">\n",
       "      <th></th>\n",
       "      <th>sale_price</th>\n",
       "      <th>sale_inthousands</th>\n",
       "      <th>sale_inmillions</th>\n",
       "    </tr>\n",
       "  </thead>\n",
       "  <tbody>\n",
       "    <tr>\n",
       "      <th>count</th>\n",
       "      <td>2.554200e+04</td>\n",
       "      <td>25542.000000</td>\n",
       "      <td>25542.000000</td>\n",
       "    </tr>\n",
       "    <tr>\n",
       "      <th>mean</th>\n",
       "      <td>2.124862e+06</td>\n",
       "      <td>2124.861956</td>\n",
       "      <td>2.124862</td>\n",
       "    </tr>\n",
       "    <tr>\n",
       "      <th>std</th>\n",
       "      <td>1.598852e+07</td>\n",
       "      <td>15988.520699</td>\n",
       "      <td>15.988521</td>\n",
       "    </tr>\n",
       "    <tr>\n",
       "      <th>min</th>\n",
       "      <td>1.000000e+03</td>\n",
       "      <td>1.000000</td>\n",
       "      <td>0.001000</td>\n",
       "    </tr>\n",
       "    <tr>\n",
       "      <th>25%</th>\n",
       "      <td>5.420000e+05</td>\n",
       "      <td>542.000000</td>\n",
       "      <td>0.542000</td>\n",
       "    </tr>\n",
       "    <tr>\n",
       "      <th>50%</th>\n",
       "      <td>8.380000e+05</td>\n",
       "      <td>838.000000</td>\n",
       "      <td>0.838000</td>\n",
       "    </tr>\n",
       "    <tr>\n",
       "      <th>75%</th>\n",
       "      <td>1.450000e+06</td>\n",
       "      <td>1450.000000</td>\n",
       "      <td>1.450000</td>\n",
       "    </tr>\n",
       "    <tr>\n",
       "      <th>max</th>\n",
       "      <td>9.310000e+08</td>\n",
       "      <td>931000.000000</td>\n",
       "      <td>931.000000</td>\n",
       "    </tr>\n",
       "  </tbody>\n",
       "</table>\n",
       "</div>"
      ],
      "text/plain": [
       "         sale_price  sale_inthousands  sale_inmillions\n",
       "count  2.554200e+04      25542.000000     25542.000000\n",
       "mean   2.124862e+06       2124.861956         2.124862\n",
       "std    1.598852e+07      15988.520699        15.988521\n",
       "min    1.000000e+03          1.000000         0.001000\n",
       "25%    5.420000e+05        542.000000         0.542000\n",
       "50%    8.380000e+05        838.000000         0.838000\n",
       "75%    1.450000e+06       1450.000000         1.450000\n",
       "max    9.310000e+08     931000.000000       931.000000"
      ]
     },
     "execution_count": 99,
     "metadata": {},
     "output_type": "execute_result"
    }
   ],
   "source": [
    "## Create two new sale price columns for easier visualization\n",
    "\n",
    "## Lets take a look at our newly created columns\n",
    "\n",
    "sales_22['sale_inmillions'].sum()\n",
    "sales_22['sale_inthousands'] = sales_22['sale_price']/1000\n",
    "sales_22['sale_inmillions'] = sales_22['sale_price']/1000000\n",
    "sales_22[['sale_price','sale_inthousands','sale_inmillions']].describe()"
   ]
  },
  {
   "cell_type": "code",
   "execution_count": 25,
   "id": "c4a39bf9",
   "metadata": {},
   "outputs": [
    {
     "data": {
      "text/html": [
       "<div>\n",
       "<style scoped>\n",
       "    .dataframe tbody tr th:only-of-type {\n",
       "        vertical-align: middle;\n",
       "    }\n",
       "\n",
       "    .dataframe tbody tr th {\n",
       "        vertical-align: top;\n",
       "    }\n",
       "\n",
       "    .dataframe thead th {\n",
       "        text-align: right;\n",
       "    }\n",
       "</style>\n",
       "<table border=\"1\" class=\"dataframe\">\n",
       "  <thead>\n",
       "    <tr style=\"text-align: right;\">\n",
       "      <th></th>\n",
       "      <th>sale_month</th>\n",
       "      <th>sale_inthousands</th>\n",
       "    </tr>\n",
       "  </thead>\n",
       "  <tbody>\n",
       "    <tr>\n",
       "      <th>0</th>\n",
       "      <td>2022-01</td>\n",
       "      <td>1658.682906</td>\n",
       "    </tr>\n",
       "    <tr>\n",
       "      <th>1</th>\n",
       "      <td>2022-02</td>\n",
       "      <td>1844.523509</td>\n",
       "    </tr>\n",
       "    <tr>\n",
       "      <th>2</th>\n",
       "      <td>2022-03</td>\n",
       "      <td>2739.982382</td>\n",
       "    </tr>\n",
       "    <tr>\n",
       "      <th>3</th>\n",
       "      <td>2022-04</td>\n",
       "      <td>2457.344272</td>\n",
       "    </tr>\n",
       "    <tr>\n",
       "      <th>4</th>\n",
       "      <td>2022-05</td>\n",
       "      <td>1645.474476</td>\n",
       "    </tr>\n",
       "  </tbody>\n",
       "</table>\n",
       "</div>"
      ],
      "text/plain": [
       "  sale_month  sale_inthousands\n",
       "0    2022-01       1658.682906\n",
       "1    2022-02       1844.523509\n",
       "2    2022-03       2739.982382\n",
       "3    2022-04       2457.344272\n",
       "4    2022-05       1645.474476"
      ]
     },
     "execution_count": 25,
     "metadata": {},
     "output_type": "execute_result"
    }
   ],
   "source": [
    "# Average sales by month for the year 2022 for all Boroughs\n",
    "\n",
    "sm = sales_22[['sale_month','sale_inthousands']].groupby(by='sale_month').mean()\n",
    "sm.reset_index(inplace=True)\n",
    "sm"
   ]
  },
  {
   "cell_type": "code",
   "execution_count": 26,
   "id": "d814f984",
   "metadata": {},
   "outputs": [
    {
     "data": {
      "image/png": "[encoded data removed]",
      "text/plain": [
       "<Figure size 432x432 with 1 Axes>"
      ]
     },
     "metadata": {},
     "output_type": "display_data"
    }
   ],
   "source": [
    "# Lets take a look at the data\n",
    "\n",
    "sns.set_theme(style=\"whitegrid\")\n",
    "\n",
    "g = sns.catplot(\n",
    "    data=sm, kind=\"bar\",\n",
    "    x=\"sale_month\", y=\"sale_inthousands\",\n",
    "    palette=\"dark\", alpha=.6, height=6\n",
    ")\n",
    "g.despine(left=True)\n",
    "g.set_axis_labels(\"\", \"Sales in thousands\")\n",
    "plt.title('Average sales in all of NYC')\n",
    "plt.show()\n"
   ]
  },
  {
   "cell_type": "markdown",
   "id": "7afb019c",
   "metadata": {},
   "source": [
    "There seems to be a peak in the month of march, but that on its own doesn't tell us much without looking at other years for comparison."
   ]
  },
  {
   "cell_type": "code",
   "execution_count": 27,
   "id": "15423537",
   "metadata": {},
   "outputs": [
    {
     "data": {
      "image/png": "[encoded data removed]",
      "text/plain": [
       "<Figure size 432x288 with 1 Axes>"
      ]
     },
     "metadata": {},
     "output_type": "display_data"
    }
   ],
   "source": [
    "# What is the distribution of sales prices for all of 2022 so far?\n",
    "\n",
    "\n",
    "sns.histplot(data=sales_22[sales_22['sale_inthousands']<10000]['sale_inthousands'],bins=140)\n",
    "plt.show()"
   ]
  },
  {
   "cell_type": "markdown",
   "id": "ecc83372",
   "metadata": {},
   "source": [
    "Sales are heavily right-tailed, we know that 3/4 of sales are under 1.5 million dollars, but they go up to about a billion dollars"
   ]
  },
  {
   "cell_type": "code",
   "execution_count": 28,
   "id": "f37a7c21",
   "metadata": {},
   "outputs": [
    {
     "data": {
      "image/png": "[encoded data removed]",
      "text/plain": [
       "<Figure size 432x432 with 1 Axes>"
      ]
     },
     "metadata": {},
     "output_type": "display_data"
    }
   ],
   "source": [
    "# Which borough has the biggest price tag sales? Count of sales over 10 million\n",
    "\n",
    "over_10mill = sales_22[sales_22['sale_price']>10000000]['borough'].value_counts()\n",
    "over_10mill = over_10mill.reset_index()\n",
    "\n",
    "over_10mill['index'].replace({1:'manhattan', 2:'bronx', 3:'brooklyn', 4:'queens', 5:'statenisland'}, inplace=True)\n",
    "over_10mill.rename(columns = {'index':'borough','borough':'count'},inplace=True)\n",
    "\n",
    "\n",
    "# Graph it \n",
    "\n",
    "sns.set_theme(style=\"whitegrid\")\n",
    "\n",
    "g = sns.catplot(\n",
    "    data=over_10mill, kind=\"bar\",\n",
    "    x=\"borough\", y=\"count\",\n",
    "    palette=\"deep\", alpha=.6, height=6\n",
    ")\n",
    "g.despine(left=True)\n",
    "g.set_axis_labels(\"\", \"Number of sales\")\n",
    "plt.title('Sales over 10 million')\n",
    "plt.show()\n",
    "\n"
   ]
  },
  {
   "cell_type": "markdown",
   "id": "6c2e3411",
   "metadata": {},
   "source": [
    "Most big sales happen in Manhattan. As expected, our highest income borough also has the highest number of big price tag properties (>10million)"
   ]
  },
  {
   "cell_type": "markdown",
   "id": "1f6466a5",
   "metadata": {},
   "source": [
    "## Correlation analysis \n",
    "\n",
    "We expect all the quantitative columns to have a positive relationship with price. The more units or square footage the higher the price of the property will be. We are going to graph them one by one:"
   ]
  },
  {
   "cell_type": "code",
   "execution_count": 37,
   "id": "48a3e1f6",
   "metadata": {},
   "outputs": [],
   "source": [
    "# Let's analyze each quantitative column one by one and see their relationship to price\n",
    "\n",
    "# We are going to take out the big outliers so that we can easily see the correlation\n",
    "\n",
    "criteria_res_units = (sales_22['sale_price'].between(1000,50000000)) & (sales_22['residential_units'].between(1,200))\n",
    "criteria_com_units =  (sales_22['sale_price'].between(1000,50000000)) & (sales_22['commercial_units'].between(1,25))\n",
    "criteria_tot_units = (sales_22['sale_price'].between(1000,50000000)) & (sales_22['total_units'].between(1,200)) \n",
    "criteria_lan_sqfeet =  (sales_22['sale_price'].between(1000,50000000)) & (sales_22['land_square_feet'].between(1,50000)) \n",
    "criteria_gro_sqfeet =  (sales_22['sale_price'].between(1000,50000000)) & (sales_22['gross_square_feet'].between(1,10000))\n",
    "\n",
    "non_zero_res = sales_22[criteria_res_units]\n",
    "non_zero_com = sales_22[criteria_com_units]\n",
    "non_zero_tot = sales_22[criteria_tot_units]\n",
    "non_zero_lan = sales_22[criteria_lan_sqfeet]\n",
    "non_zero_gro = sales_22[criteria_gro_sqfeet]"
   ]
  },
  {
   "cell_type": "code",
   "execution_count": 38,
   "id": "2ac2e678",
   "metadata": {},
   "outputs": [],
   "source": [
    "# define a function for our 5 different scatterplots\n",
    "\n",
    "\n",
    "def scatterplot(df, x, y, xlabel, ylabel):\n",
    "    plt.scatter(x= x, y= y, data=df)\n",
    "    \n",
    "    plt.xlabel(xlabel)\n",
    "    plt.ylabel(ylabel)\n",
    "\n",
    "    plt.show()\n",
    "    "
   ]
  },
  {
   "cell_type": "markdown",
   "id": "22d47f91",
   "metadata": {},
   "source": [
    "Correlation between Number of residential units and Sale price:"
   ]
  },
  {
   "cell_type": "code",
   "execution_count": 31,
   "id": "f0c929d6",
   "metadata": {},
   "outputs": [
    {
     "data": {
      "image/png": "[encoded data removed]",
      "text/plain": [
       "<Figure size 432x288 with 1 Axes>"
      ]
     },
     "metadata": {},
     "output_type": "display_data"
    }
   ],
   "source": [
    "scatterplot(non_zero_res,'residential_units','sale_price','Number of residential units','sale price')"
   ]
  },
  {
   "cell_type": "markdown",
   "id": "64475967",
   "metadata": {},
   "source": [
    "Correlation between Number of commercial units and Sale price:"
   ]
  },
  {
   "cell_type": "code",
   "execution_count": 32,
   "id": "6b684156",
   "metadata": {},
   "outputs": [
    {
     "data": {
      "image/png": "[encoded data removed]",
      "text/plain": [
       "<Figure size 432x288 with 1 Axes>"
      ]
     },
     "metadata": {},
     "output_type": "display_data"
    }
   ],
   "source": [
    "scatterplot(non_zero_res,'commercial_units','sale_price','Number of commercial units','sale price')"
   ]
  },
  {
   "cell_type": "markdown",
   "id": "23b8457b",
   "metadata": {},
   "source": [
    "Correlation between Total number of units and Sale price:"
   ]
  },
  {
   "cell_type": "code",
   "execution_count": 33,
   "id": "b82c3f19",
   "metadata": {},
   "outputs": [
    {
     "data": {
      "image/png": "[encoded data removed]",
      "text/plain": [
       "<Figure size 432x288 with 1 Axes>"
      ]
     },
     "metadata": {},
     "output_type": "display_data"
    }
   ],
   "source": [
    "scatterplot(non_zero_res,'total_units','sale_price','Total number of units','sale price')"
   ]
  },
  {
   "cell_type": "markdown",
   "id": "a517d0d6",
   "metadata": {},
   "source": [
    "Correlation between Land square footage and Sale price:"
   ]
  },
  {
   "cell_type": "code",
   "execution_count": 34,
   "id": "a30c5f67",
   "metadata": {},
   "outputs": [
    {
     "data": {
      "image/png": "[encoded data removed]",
      "text/plain": [
       "<Figure size 432x288 with 1 Axes>"
      ]
     },
     "metadata": {},
     "output_type": "display_data"
    }
   ],
   "source": [
    "scatterplot(non_zero_res,'land_square_feet','sale_price','Land square footage','sale price')"
   ]
  },
  {
   "cell_type": "markdown",
   "id": "ec323ded",
   "metadata": {},
   "source": [
    "Correlation between Gross square footage and Sale price:"
   ]
  },
  {
   "cell_type": "code",
   "execution_count": 35,
   "id": "53f657ea",
   "metadata": {},
   "outputs": [
    {
     "data": {
      "image/png": "[encoded data removed]",
      "text/plain": [
       "<Figure size 432x288 with 1 Axes>"
      ]
     },
     "metadata": {},
     "output_type": "display_data"
    }
   ],
   "source": [
    "scatterplot(non_zero_res,'gross_square_feet','sale_price','Gross square footage','sale price')"
   ]
  },
  {
   "cell_type": "markdown",
   "id": "76331cb5",
   "metadata": {},
   "source": [
    "As expected, there is a positive relationship between all quantitative columns and sale price. There would need to be further research to find out how strongly and how much the variables explain the price."
   ]
  },
  {
   "cell_type": "code",
   "execution_count": 39,
   "id": "11866100",
   "metadata": {},
   "outputs": [
    {
     "data": {
      "image/png": "[encoded data removed]",
      "text/plain": [
       "<Figure size 523.85x432 with 1 Axes>"
      ]
     },
     "metadata": {},
     "output_type": "display_data"
    }
   ],
   "source": [
    "#Top 10 neighborhoods by average sales\n",
    "\n",
    "top_neigh = sales_22[['neighborhood','borough','sale_inthousands']]\n",
    "nbhood_avg_sales = top_neigh.groupby('neighborhood').agg({'sale_inthousands':'mean','borough':'first'})\n",
    "nbhood_avg_sales.reset_index(inplace=True)\n",
    "nbhood10_avg_sales = nbhood_avg_sales.sort_values(by='sale_inthousands' , ascending=False).iloc[:10,:]\n",
    "nbhood10_avg_sales['borough'].replace({1:'manhattan', 2:'bronx', 3:'brooklyn', 4:'queens', 5:'statenisland'}, inplace=True)\n",
    "\n",
    "sns.set_theme(style=\"whitegrid\")\n",
    "\n",
    "g = sns.catplot(\n",
    "    data=nbhood10_avg_sales, kind=\"bar\",\n",
    "    x=\"neighborhood\", y=\"sale_inthousands\", hue=\"borough\", dodge=False,\n",
    "    palette=\"deep\", alpha=.6, height=6\n",
    ")\n",
    "g.despine(left=True)\n",
    "g.set_axis_labels(\"\", \"Sales volume in 1000's\")\n",
    "g.legend.set_title(\"Borough\")\n",
    "g.set_xticklabels(rotation=80)\n",
    "\n",
    "plt.title('Top 10 neighborhoods')\n",
    "plt.show()\n"
   ]
  },
  {
   "cell_type": "markdown",
   "id": "438f3372",
   "metadata": {},
   "source": [
    "Most of the highest sales volume neighborhoods are located in Manhattan, our highest income borough"
   ]
  },
  {
   "cell_type": "code",
   "execution_count": 40,
   "id": "29e499ce",
   "metadata": {},
   "outputs": [
    {
     "data": {
      "image/png": "[encoded data removed]",
      "text/plain": [
       "<Figure size 530.35x432 with 1 Axes>"
      ]
     },
     "metadata": {},
     "output_type": "display_data"
    }
   ],
   "source": [
    "#Bottom 10 neighborhoods by average sales\n",
    "\n",
    "#{1:'manhattan', 2:'bronx', 3:'brooklyn', 4:'queens', 5:'statenisland'}\n",
    "\n",
    "bot_neigh = sales_22[['neighborhood','borough','sale_inthousands']]\n",
    "nbhood_bot_avg_sales = bot_neigh.groupby('neighborhood').agg({'sale_inthousands':'mean','borough':'first'})\n",
    "nbhood_bot_avg_sales.reset_index(inplace=True)\n",
    "nbhood10_bot_avg_sales = nbhood_bot_avg_sales.sort_values(by='sale_inthousands' , ascending=False).iloc[-10:-1,:]\n",
    "nbhood10_bot_avg_sales['borough'].replace({1:'manhattan', 2:'bronx', 3:'brooklyn', 4:'queens', 5:'statenisland'}, inplace=True)\n",
    "\n",
    "#graph it\n",
    "\n",
    "sns.set_theme(style=\"whitegrid\")\n",
    "\n",
    "g = sns.catplot(\n",
    "    data=nbhood10_bot_avg_sales, kind=\"bar\",\n",
    "    x=\"neighborhood\", y=\"sale_inthousands\", hue=\"borough\", dodge=False,\n",
    "    palette=\"deep\", alpha=.6, height=6\n",
    ")\n",
    "g.despine(left=True)\n",
    "g.set_axis_labels(\"\", \"Sales volume in 1000's\")\n",
    "g.legend.set_title(\"Borough\")\n",
    "g.set_xticklabels(rotation=80)\n",
    "\n",
    "plt.title('Bottom Neighborhoods')\n",
    "plt.show()\n"
   ]
  },
  {
   "cell_type": "markdown",
   "id": "eb3b25cd",
   "metadata": {},
   "source": [
    "None of the lowest volume sales neighborhoods are located in Manhattan and Brooklyn "
   ]
  },
  {
   "cell_type": "code",
   "execution_count": 41,
   "id": "80299a13",
   "metadata": {},
   "outputs": [
    {
     "data": {
      "text/html": [
       "<div>\n",
       "<style scoped>\n",
       "    .dataframe tbody tr th:only-of-type {\n",
       "        vertical-align: middle;\n",
       "    }\n",
       "\n",
       "    .dataframe tbody tr th {\n",
       "        vertical-align: top;\n",
       "    }\n",
       "\n",
       "    .dataframe thead th {\n",
       "        text-align: right;\n",
       "    }\n",
       "</style>\n",
       "<table border=\"1\" class=\"dataframe\">\n",
       "  <thead>\n",
       "    <tr style=\"text-align: right;\">\n",
       "      <th></th>\n",
       "      <th>borough</th>\n",
       "      <th>sale_count</th>\n",
       "      <th>mean_sale_inthousands</th>\n",
       "    </tr>\n",
       "  </thead>\n",
       "  <tbody>\n",
       "    <tr>\n",
       "      <th>0</th>\n",
       "      <td>manhattan</td>\n",
       "      <td>7051</td>\n",
       "      <td>4119.381012</td>\n",
       "    </tr>\n",
       "    <tr>\n",
       "      <th>1</th>\n",
       "      <td>bronx</td>\n",
       "      <td>1909</td>\n",
       "      <td>1391.542957</td>\n",
       "    </tr>\n",
       "    <tr>\n",
       "      <th>2</th>\n",
       "      <td>brooklyn</td>\n",
       "      <td>7107</td>\n",
       "      <td>1722.910219</td>\n",
       "    </tr>\n",
       "    <tr>\n",
       "      <th>3</th>\n",
       "      <td>queens</td>\n",
       "      <td>7360</td>\n",
       "      <td>1187.970053</td>\n",
       "    </tr>\n",
       "    <tr>\n",
       "      <th>4</th>\n",
       "      <td>statenisland</td>\n",
       "      <td>2115</td>\n",
       "      <td>748.383229</td>\n",
       "    </tr>\n",
       "  </tbody>\n",
       "</table>\n",
       "</div>"
      ],
      "text/plain": [
       "        borough  sale_count  mean_sale_inthousands\n",
       "0     manhattan        7051            4119.381012\n",
       "1         bronx        1909            1391.542957\n",
       "2      brooklyn        7107            1722.910219\n",
       "3        queens        7360            1187.970053\n",
       "4  statenisland        2115             748.383229"
      ]
     },
     "execution_count": 41,
     "metadata": {},
     "output_type": "execute_result"
    }
   ],
   "source": [
    "## What is the amount mean sales by borough?\n",
    "\n",
    "avg_sales_borough_2022 = sales_22[['borough','sale_inthousands']].groupby('borough').agg(['count','mean'])\n",
    "avg_sales_borough_2022.reset_index(inplace=True)\n",
    "\n",
    "avg_sales_borough_2022[(         'borough',      '')].replace({1:'manhattan', 2:'bronx', 3:'brooklyn', 4:'queens', 5:'statenisland'}, inplace=True)\n",
    "\n",
    "avg_sales_borough_2022.columns = ['borough','sale_count','mean_sale_inthousands']\n",
    "\n",
    "##   **** needs a graph ****\n",
    "\n",
    "avg_sales_borough_2022"
   ]
  },
  {
   "cell_type": "code",
   "execution_count": 46,
   "id": "f53babc6",
   "metadata": {},
   "outputs": [
    {
     "data": {
      "image/png": "[encoded data removed]",
      "text/plain": [
       "<Figure size 432x432 with 1 Axes>"
      ]
     },
     "metadata": {},
     "output_type": "display_data"
    }
   ],
   "source": [
    "g = sns.catplot(\n",
    "    data=avg_sales_borough_2022, kind=\"bar\",\n",
    "    x=\"borough\", y=\"mean_sale_inthousands\",\n",
    "    ci=\"sd\", palette=\"dark\", alpha=.6, height=6\n",
    ")\n",
    "g.despine(left=True)\n",
    "g.set_axis_labels(\"\", \"Mean sales in 1000s\")\n",
    "\n",
    "plt.title('Mean sale price by borough')\n",
    "plt.show()"
   ]
  },
  {
   "cell_type": "markdown",
   "id": "30052c80",
   "metadata": {},
   "source": [
    "Again, our top contender for this metric is Manhattan, followed by Brooklyn with less than half the average sale price for the year 2022"
   ]
  },
  {
   "cell_type": "markdown",
   "id": "40a83894",
   "metadata": {},
   "source": [
    "## Extracting 2021 NYC sales for comparison \n",
    "\n",
    "Now that we have seen some general trends for 2022 sales in NYC, we can bring in the data for 2021 sales and analyze how sales in 2022 compare to the sales in the same period of the previous year. Considering covid-related effects, we can be fairly certain that conditions were significantly different between the two years."
   ]
  },
  {
   "cell_type": "code",
   "execution_count": 48,
   "id": "0eb1d2dd",
   "metadata": {},
   "outputs": [],
   "source": [
    "## Indentify the urls and filenames for the 2021 data \n",
    "\n",
    "url_man_21 = 'https://www1.nyc.gov/assets/finance/downloads/pdf/rolling_sales/annualized-sales/2021/2021_manhattan.xlsx'\n",
    "url_brx_21 = 'https://www1.nyc.gov/assets/finance/downloads/pdf/rolling_sales/annualized-sales/2021/2021_bronx.xlsx'\n",
    "url_bry_21 = 'https://www1.nyc.gov/assets/finance/downloads/pdf/rolling_sales/annualized-sales/2021/2021_brooklyn.xlsx'\n",
    "url_que_21 = 'https://www1.nyc.gov/assets/finance/downloads/pdf/rolling_sales/annualized-sales/2021/2021_queens.xlsx'\n",
    "url_sta_21 = 'https://www1.nyc.gov/assets/finance/downloads/pdf/rolling_sales/annualized-sales/2021/2021_staten_island.xlsx'\n",
    "\n",
    "\n",
    "urls = [url_man_21,url_brx_21, url_bry_21, url_que_21, url_sta_21]\n",
    "       #url_man_20,url_brx_20, url_bry_20, url_que_20, url_sta_20,\n",
    "       #url_man_19,url_brx_19, url_bry_19, url_que_19, url_sta_19]\n",
    "\n",
    "file_man_21 = '2021_manhattan.xlsx'\n",
    "file_brx_21 = '2021_bronx.xlsx'\n",
    "file_bry_21 = '2021_brooklyn.xlsx'\n",
    "file_que_21 = '2021_queens.xlsx'\n",
    "file_sta_21 = '2021_staten_island.xlsx'\n",
    "\n",
    "\n",
    "filenames = [file_man_21, file_brx_21, file_bry_21, file_que_21, file_sta_21]\n",
    "            #file_man_20, file_brx_20, file_bry_20, file_que_20, file_sta_20,\n",
    "            #file_man_19, file_brx_19, file_bry_19, file_que_19, file_sta_19]\n",
    "\n",
    "\n",
    "for i in range(5):\n",
    "    urlretrieve(urls[i],filenames[i])"
   ]
  },
  {
   "cell_type": "code",
   "execution_count": 49,
   "id": "dff74347",
   "metadata": {},
   "outputs": [],
   "source": [
    "## Read our files with pandas\n",
    "\n",
    "sales_man_21 = pd.read_excel('2021_manhattan.xlsx', header = 6)\n",
    "sales_brx_21 = pd.read_excel('2021_bronx.xlsx', header = 6)\n",
    "sales_bry_21 = pd.read_excel('2021_brooklyn.xlsx', header = 6)\n",
    "sales_que_21 = pd.read_excel('2021_queens.xlsx', header = 6)\n",
    "sales_sta_21 = pd.read_excel('2021_staten_island.xlsx', header = 6)\n"
   ]
  },
  {
   "cell_type": "markdown",
   "id": "c45c8b70",
   "metadata": {},
   "source": [
    "In the following steps we are going to do similar cleaning and formatting that we did for the sales data for 2021:"
   ]
  },
  {
   "cell_type": "code",
   "execution_count": 52,
   "id": "91b036c6",
   "metadata": {},
   "outputs": [],
   "source": [
    "#Join the borough data together \n",
    "\n",
    "sales_21 = pd.concat([sales_man_21, sales_brx_21, sales_bry_21, sales_que_21, sales_sta_21])"
   ]
  },
  {
   "cell_type": "code",
   "execution_count": 53,
   "id": "6fe8a36c",
   "metadata": {},
   "outputs": [],
   "source": [
    "# replace space by _ in column names\n",
    "\n",
    "sales_21.columns = sales_21.columns.str.lower()\n",
    "sales_21.columns = sales_21.columns.str.replace(\" \", \"_\")"
   ]
  },
  {
   "cell_type": "code",
   "execution_count": 54,
   "id": "0a8125ff",
   "metadata": {},
   "outputs": [],
   "source": [
    "# take out the \\n in column names \n",
    "\n",
    "sales_21.columns = sales_21.columns.str.replace(\"\\n\", \"\")"
   ]
  },
  {
   "cell_type": "code",
   "execution_count": 55,
   "id": "327373c1",
   "metadata": {},
   "outputs": [
    {
     "name": "stdout",
     "output_type": "stream",
     "text": [
      "<class 'pandas.core.frame.DataFrame'>\n",
      "Int64Index: 99095 entries, 0 to 9865\n",
      "Data columns (total 21 columns):\n",
      " #   Column                         Non-Null Count  Dtype         \n",
      "---  ------                         --------------  -----         \n",
      " 0   borough                        99090 non-null  float64       \n",
      " 1   neighborhood                   99090 non-null  object        \n",
      " 2   building_class_category        99090 non-null  object        \n",
      " 3   tax_class_at_present           98919 non-null  object        \n",
      " 4   block                          99090 non-null  float64       \n",
      " 5   lot                            99090 non-null  float64       \n",
      " 6   ease-ment                      0 non-null      float64       \n",
      " 7   building_class_at_present      98919 non-null  object        \n",
      " 8   address                        99090 non-null  object        \n",
      " 9   apartment_number               24974 non-null  object        \n",
      " 10  zip_code                       99089 non-null  float64       \n",
      " 11  residentialunits               75535 non-null  float64       \n",
      " 12  commercialunits                56421 non-null  float64       \n",
      " 13  total_units                    78588 non-null  float64       \n",
      " 14  land_square_feet               53368 non-null  float64       \n",
      " 15  gross_square_feet              53368 non-null  float64       \n",
      " 16  year_built                     92048 non-null  float64       \n",
      " 17  tax_class_at_time_of_sale      99090 non-null  float64       \n",
      " 18  building_classat_time_of_sale  99090 non-null  object        \n",
      " 19  sale_price                     99090 non-null  float64       \n",
      " 20  sale_date                      99090 non-null  datetime64[ns]\n",
      "dtypes: datetime64[ns](1), float64(13), object(7)\n",
      "memory usage: 16.6+ MB\n"
     ]
    }
   ],
   "source": [
    "sales_21.info()"
   ]
  },
  {
   "cell_type": "code",
   "execution_count": 56,
   "id": "fdac656d",
   "metadata": {},
   "outputs": [],
   "source": [
    "## drop the easement column because it is empty \n",
    "\n",
    "sales_21.drop(columns='ease-ment', inplace=True)"
   ]
  },
  {
   "cell_type": "code",
   "execution_count": 57,
   "id": "5e32bdee",
   "metadata": {},
   "outputs": [
    {
     "data": {
      "text/html": [
       "<div>\n",
       "<style scoped>\n",
       "    .dataframe tbody tr th:only-of-type {\n",
       "        vertical-align: middle;\n",
       "    }\n",
       "\n",
       "    .dataframe tbody tr th {\n",
       "        vertical-align: top;\n",
       "    }\n",
       "\n",
       "    .dataframe thead th {\n",
       "        text-align: right;\n",
       "    }\n",
       "</style>\n",
       "<table border=\"1\" class=\"dataframe\">\n",
       "  <thead>\n",
       "    <tr style=\"text-align: right;\">\n",
       "      <th></th>\n",
       "      <th>borough</th>\n",
       "      <th>neighborhood</th>\n",
       "      <th>building_class_category</th>\n",
       "      <th>tax_class_at_present</th>\n",
       "      <th>block</th>\n",
       "      <th>lot</th>\n",
       "      <th>building_class_at_present</th>\n",
       "      <th>address</th>\n",
       "      <th>apartment_number</th>\n",
       "      <th>zip_code</th>\n",
       "      <th>residentialunits</th>\n",
       "      <th>commercialunits</th>\n",
       "      <th>total_units</th>\n",
       "      <th>land_square_feet</th>\n",
       "      <th>gross_square_feet</th>\n",
       "      <th>year_built</th>\n",
       "      <th>tax_class_at_time_of_sale</th>\n",
       "      <th>building_classat_time_of_sale</th>\n",
       "      <th>sale_price</th>\n",
       "      <th>sale_date</th>\n",
       "    </tr>\n",
       "  </thead>\n",
       "  <tbody>\n",
       "    <tr>\n",
       "      <th>0</th>\n",
       "      <td>NaN</td>\n",
       "      <td>NaN</td>\n",
       "      <td>NaN</td>\n",
       "      <td>NaN</td>\n",
       "      <td>NaN</td>\n",
       "      <td>NaN</td>\n",
       "      <td>NaN</td>\n",
       "      <td>NaN</td>\n",
       "      <td>NaN</td>\n",
       "      <td>NaN</td>\n",
       "      <td>NaN</td>\n",
       "      <td>NaN</td>\n",
       "      <td>NaN</td>\n",
       "      <td>NaN</td>\n",
       "      <td>NaN</td>\n",
       "      <td>NaN</td>\n",
       "      <td>NaN</td>\n",
       "      <td>NaN</td>\n",
       "      <td>NaN</td>\n",
       "      <td>NaT</td>\n",
       "    </tr>\n",
       "    <tr>\n",
       "      <th>1</th>\n",
       "      <td>1.0</td>\n",
       "      <td>ALPHABET CITY</td>\n",
       "      <td>01 ONE FAMILY DWELLINGS</td>\n",
       "      <td>1</td>\n",
       "      <td>374.0</td>\n",
       "      <td>46.0</td>\n",
       "      <td>A4</td>\n",
       "      <td>347 EAST 4TH STREET</td>\n",
       "      <td>NaN</td>\n",
       "      <td>10009.0</td>\n",
       "      <td>1.0</td>\n",
       "      <td>0.0</td>\n",
       "      <td>1.0</td>\n",
       "      <td>2116.0</td>\n",
       "      <td>4400.0</td>\n",
       "      <td>1900.0</td>\n",
       "      <td>1.0</td>\n",
       "      <td>A4</td>\n",
       "      <td>2385000.0</td>\n",
       "      <td>2021-02-09</td>\n",
       "    </tr>\n",
       "    <tr>\n",
       "      <th>2</th>\n",
       "      <td>1.0</td>\n",
       "      <td>ALPHABET CITY</td>\n",
       "      <td>02 TWO FAMILY DWELLINGS</td>\n",
       "      <td>1</td>\n",
       "      <td>377.0</td>\n",
       "      <td>70.0</td>\n",
       "      <td>B1</td>\n",
       "      <td>235 EAST 7TH STREET</td>\n",
       "      <td>NaN</td>\n",
       "      <td>10009.0</td>\n",
       "      <td>2.0</td>\n",
       "      <td>0.0</td>\n",
       "      <td>2.0</td>\n",
       "      <td>882.0</td>\n",
       "      <td>2160.0</td>\n",
       "      <td>2003.0</td>\n",
       "      <td>1.0</td>\n",
       "      <td>B1</td>\n",
       "      <td>3025000.0</td>\n",
       "      <td>2021-12-16</td>\n",
       "    </tr>\n",
       "  </tbody>\n",
       "</table>\n",
       "</div>"
      ],
      "text/plain": [
       "   borough   neighborhood  building_class_category tax_class_at_present  \\\n",
       "0      NaN            NaN                      NaN                  NaN   \n",
       "1      1.0  ALPHABET CITY  01 ONE FAMILY DWELLINGS                    1   \n",
       "2      1.0  ALPHABET CITY  02 TWO FAMILY DWELLINGS                    1   \n",
       "\n",
       "   block   lot building_class_at_present              address  \\\n",
       "0    NaN   NaN                       NaN                  NaN   \n",
       "1  374.0  46.0                        A4  347 EAST 4TH STREET   \n",
       "2  377.0  70.0                        B1  235 EAST 7TH STREET   \n",
       "\n",
       "  apartment_number  zip_code  residentialunits  commercialunits  total_units  \\\n",
       "0              NaN       NaN               NaN              NaN          NaN   \n",
       "1              NaN   10009.0               1.0              0.0          1.0   \n",
       "2              NaN   10009.0               2.0              0.0          2.0   \n",
       "\n",
       "   land_square_feet  gross_square_feet  year_built  tax_class_at_time_of_sale  \\\n",
       "0               NaN                NaN         NaN                        NaN   \n",
       "1            2116.0             4400.0      1900.0                        1.0   \n",
       "2             882.0             2160.0      2003.0                        1.0   \n",
       "\n",
       "  building_classat_time_of_sale  sale_price  sale_date  \n",
       "0                           NaN         NaN        NaT  \n",
       "1                            A4   2385000.0 2021-02-09  \n",
       "2                            B1   3025000.0 2021-12-16  "
      ]
     },
     "execution_count": 57,
     "metadata": {},
     "output_type": "execute_result"
    }
   ],
   "source": [
    "sales_21.head(3)"
   ]
  },
  {
   "cell_type": "code",
   "execution_count": 58,
   "id": "bfa032ac",
   "metadata": {},
   "outputs": [],
   "source": [
    "#reset our index after concat and drop the first row after columns that seems to be empty\n",
    "\n",
    "sales_21.reset_index(inplace=True,drop=True)\n",
    "\n",
    "sales_21.drop(index=0, inplace=True)"
   ]
  },
  {
   "cell_type": "code",
   "execution_count": 60,
   "id": "690f098c",
   "metadata": {},
   "outputs": [],
   "source": [
    "## change category-like columns into categories\n",
    "\n",
    "obj_cats = ['borough', 'neighborhood', 'building_class_category',\n",
    "       'tax_class_at_present', 'block', 'lot', 'building_class_at_present','zip_code',\n",
    "            'year_built', 'tax_class_at_time_of_sale','building_classat_time_of_sale',\n",
    "           'address','apartment_number']\n",
    "            \n",
    "\n",
    "for colname in obj_cats:\n",
    "    sales_21[colname] = sales_21[colname].astype('category') \n"
   ]
  },
  {
   "cell_type": "code",
   "execution_count": 61,
   "id": "c4871648",
   "metadata": {},
   "outputs": [],
   "source": [
    "# create a month column\n",
    "\n",
    "sales_21['sale_month'] = sales_21['sale_date'].dt.to_period('M')"
   ]
  },
  {
   "cell_type": "code",
   "execution_count": 62,
   "id": "ed3194e4",
   "metadata": {},
   "outputs": [],
   "source": [
    "# create additional sales columns for easier visualization\n",
    "\n",
    "sales_21['sale_inthousands'] = sales_21['sale_price']/1000\n",
    "sales_21['sale_inmillions'] = sales_21['sale_price']/1000000"
   ]
  },
  {
   "cell_type": "code",
   "execution_count": 63,
   "id": "cbcc3d6d",
   "metadata": {},
   "outputs": [],
   "source": [
    "# take out sales under a thousand like we did with 22 sales\n",
    "\n",
    "sales_21 = sales_21[~sales_21['sale_price'].between(0,999)]"
   ]
  },
  {
   "cell_type": "code",
   "execution_count": 64,
   "id": "eeb473b7",
   "metadata": {},
   "outputs": [
    {
     "data": {
      "text/html": [
       "<div>\n",
       "<style scoped>\n",
       "    .dataframe tbody tr th:only-of-type {\n",
       "        vertical-align: middle;\n",
       "    }\n",
       "\n",
       "    .dataframe tbody tr th {\n",
       "        vertical-align: top;\n",
       "    }\n",
       "\n",
       "    .dataframe thead th {\n",
       "        text-align: right;\n",
       "    }\n",
       "</style>\n",
       "<table border=\"1\" class=\"dataframe\">\n",
       "  <thead>\n",
       "    <tr style=\"text-align: right;\">\n",
       "      <th></th>\n",
       "      <th>count</th>\n",
       "      <th>mean</th>\n",
       "      <th>std</th>\n",
       "      <th>min</th>\n",
       "      <th>25%</th>\n",
       "      <th>50%</th>\n",
       "      <th>75%</th>\n",
       "      <th>max</th>\n",
       "    </tr>\n",
       "  </thead>\n",
       "  <tbody>\n",
       "    <tr>\n",
       "      <th>residentialunits</th>\n",
       "      <td>50326.0</td>\n",
       "      <td>3.332035e+00</td>\n",
       "      <td>2.602727e+01</td>\n",
       "      <td>0.000</td>\n",
       "      <td>1.000</td>\n",
       "      <td>1.0</td>\n",
       "      <td>2.00</td>\n",
       "      <td>4.680000e+02</td>\n",
       "    </tr>\n",
       "    <tr>\n",
       "      <th>commercialunits</th>\n",
       "      <td>34229.0</td>\n",
       "      <td>3.989307e-01</td>\n",
       "      <td>1.321097e+01</td>\n",
       "      <td>0.000</td>\n",
       "      <td>0.000</td>\n",
       "      <td>0.0</td>\n",
       "      <td>0.00</td>\n",
       "      <td>2.261000e+03</td>\n",
       "    </tr>\n",
       "    <tr>\n",
       "      <th>total_units</th>\n",
       "      <td>52689.0</td>\n",
       "      <td>3.441762e+00</td>\n",
       "      <td>2.759115e+01</td>\n",
       "      <td>0.000</td>\n",
       "      <td>1.000</td>\n",
       "      <td>1.0</td>\n",
       "      <td>2.00</td>\n",
       "      <td>2.261000e+03</td>\n",
       "    </tr>\n",
       "    <tr>\n",
       "      <th>land_square_feet</th>\n",
       "      <td>31866.0</td>\n",
       "      <td>7.417172e+03</td>\n",
       "      <td>1.298219e+05</td>\n",
       "      <td>0.000</td>\n",
       "      <td>2000.000</td>\n",
       "      <td>2500.0</td>\n",
       "      <td>4000.00</td>\n",
       "      <td>5.799632e+06</td>\n",
       "    </tr>\n",
       "    <tr>\n",
       "      <th>gross_square_feet</th>\n",
       "      <td>31866.0</td>\n",
       "      <td>7.021528e+03</td>\n",
       "      <td>5.259943e+04</td>\n",
       "      <td>0.000</td>\n",
       "      <td>1322.000</td>\n",
       "      <td>1844.0</td>\n",
       "      <td>2680.00</td>\n",
       "      <td>2.400000e+06</td>\n",
       "    </tr>\n",
       "    <tr>\n",
       "      <th>sale_price</th>\n",
       "      <td>71053.0</td>\n",
       "      <td>1.948758e+06</td>\n",
       "      <td>9.631492e+06</td>\n",
       "      <td>1000.000</td>\n",
       "      <td>525000.000</td>\n",
       "      <td>800000.0</td>\n",
       "      <td>1350000.00</td>\n",
       "      <td>1.033000e+09</td>\n",
       "    </tr>\n",
       "    <tr>\n",
       "      <th>sale_inthousands</th>\n",
       "      <td>71053.0</td>\n",
       "      <td>1.948758e+03</td>\n",
       "      <td>9.631492e+03</td>\n",
       "      <td>1.000</td>\n",
       "      <td>525.000</td>\n",
       "      <td>800.0</td>\n",
       "      <td>1350.00</td>\n",
       "      <td>1.033000e+06</td>\n",
       "    </tr>\n",
       "    <tr>\n",
       "      <th>sale_inmillions</th>\n",
       "      <td>71053.0</td>\n",
       "      <td>1.948758e+00</td>\n",
       "      <td>9.631492e+00</td>\n",
       "      <td>0.001</td>\n",
       "      <td>0.525</td>\n",
       "      <td>0.8</td>\n",
       "      <td>1.35</td>\n",
       "      <td>1.033000e+03</td>\n",
       "    </tr>\n",
       "  </tbody>\n",
       "</table>\n",
       "</div>"
      ],
      "text/plain": [
       "                     count          mean           std       min         25%  \\\n",
       "residentialunits   50326.0  3.332035e+00  2.602727e+01     0.000       1.000   \n",
       "commercialunits    34229.0  3.989307e-01  1.321097e+01     0.000       0.000   \n",
       "total_units        52689.0  3.441762e+00  2.759115e+01     0.000       1.000   \n",
       "land_square_feet   31866.0  7.417172e+03  1.298219e+05     0.000    2000.000   \n",
       "gross_square_feet  31866.0  7.021528e+03  5.259943e+04     0.000    1322.000   \n",
       "sale_price         71053.0  1.948758e+06  9.631492e+06  1000.000  525000.000   \n",
       "sale_inthousands   71053.0  1.948758e+03  9.631492e+03     1.000     525.000   \n",
       "sale_inmillions    71053.0  1.948758e+00  9.631492e+00     0.001       0.525   \n",
       "\n",
       "                        50%         75%           max  \n",
       "residentialunits        1.0        2.00  4.680000e+02  \n",
       "commercialunits         0.0        0.00  2.261000e+03  \n",
       "total_units             1.0        2.00  2.261000e+03  \n",
       "land_square_feet     2500.0     4000.00  5.799632e+06  \n",
       "gross_square_feet    1844.0     2680.00  2.400000e+06  \n",
       "sale_price         800000.0  1350000.00  1.033000e+09  \n",
       "sale_inthousands      800.0     1350.00  1.033000e+06  \n",
       "sale_inmillions         0.8        1.35  1.033000e+03  "
      ]
     },
     "execution_count": 64,
     "metadata": {},
     "output_type": "execute_result"
    }
   ],
   "source": [
    "## lets look at overall shape of numbers\n",
    "\n",
    "## The shape of the quantitative columns seem similar to 2022\n",
    "\n",
    "sales_21.describe().transpose()"
   ]
  },
  {
   "cell_type": "markdown",
   "id": "b10bb8ef",
   "metadata": {},
   "source": [
    "Now that we have both 2022 sales and 2021 sales, and they are formatted similarly, we can look at year to year changes. We are going to grap the first quarter of the year for 2021 and 2022 and see changes in prices for a specific type of building:"
   ]
  },
  {
   "cell_type": "code",
   "execution_count": 67,
   "id": "ebe4cb98",
   "metadata": {},
   "outputs": [
    {
     "name": "stderr",
     "output_type": "stream",
     "text": [
      "/var/folders/76/ytg4_01s0zj0zkszt775_g3h0000gn/T/ipykernel_21448/4038131272.py:3: SettingWithCopyWarning: \n",
      "A value is trying to be set on a copy of a slice from a DataFrame.\n",
      "Try using .loc[row_indexer,col_indexer] = value instead\n",
      "\n",
      "See the caveats in the documentation: https://pandas.pydata.org/pandas-docs/stable/user_guide/indexing.html#returning-a-view-versus-a-copy\n",
      "  sales_21['building_class_num'] = 'type' + sales_21['building_class_category'].str[:2]\n"
     ]
    },
    {
     "data": {
      "text/plain": [
       "1        type01\n",
       "2        type02\n",
       "3        type07\n",
       "5        type07\n",
       "6        type07\n",
       "          ...  \n",
       "99090    type02\n",
       "99091    type03\n",
       "99092    type05\n",
       "99093    type05\n",
       "99094    type05\n",
       "Name: building_class_num, Length: 71057, dtype: object"
      ]
     },
     "execution_count": 67,
     "metadata": {},
     "output_type": "execute_result"
    }
   ],
   "source": [
    "#extract building class number and put in diff column for year 21\n",
    "\n",
    "sales_21['building_class_num'] = 'type' + sales_21['building_class_category'].str[:2]\n",
    "sales_21['building_class_num']"
   ]
  },
  {
   "cell_type": "code",
   "execution_count": 68,
   "id": "9c281996",
   "metadata": {},
   "outputs": [
    {
     "data": {
      "text/plain": [
       "0        type07\n",
       "1        type07\n",
       "2        type07\n",
       "3        type07\n",
       "4        type07\n",
       "          ...  \n",
       "25537    type02\n",
       "25538    type02\n",
       "25539    type02\n",
       "25540    type02\n",
       "25541    type02\n",
       "Name: building_class_num, Length: 25542, dtype: object"
      ]
     },
     "execution_count": 68,
     "metadata": {},
     "output_type": "execute_result"
    }
   ],
   "source": [
    "#extract building class number and put in diff column for year 22\n",
    "\n",
    "sales_22['building_class_num'] = 'type' + sales_22['building_class_category'].str[:2]\n",
    "sales_22['building_class_num']"
   ]
  },
  {
   "cell_type": "code",
   "execution_count": 69,
   "id": "13c198a2",
   "metadata": {},
   "outputs": [],
   "source": [
    "# extract first quarter of 2022 sales to compare\n",
    "\n",
    "sales_22_q1 = sales_22[sales_22['sale_date'].dt.month.between(0,3)]"
   ]
  },
  {
   "cell_type": "code",
   "execution_count": 70,
   "id": "91cd4fdc",
   "metadata": {},
   "outputs": [],
   "source": [
    "# extract first quarter of 2021 sales to compare \n",
    "\n",
    "sales_21_q1 = sales_21[sales_21['sale_date'].dt.month.between(0,3)]"
   ]
  },
  {
   "cell_type": "markdown",
   "id": "cd8e68e1",
   "metadata": {},
   "source": [
    "We are going to grab apartment-type buildings, which are labeled with the types below:"
   ]
  },
  {
   "cell_type": "code",
   "execution_count": 71,
   "id": "ced3c6f2",
   "metadata": {},
   "outputs": [],
   "source": [
    "# we will look at apartment-type buildings -  q1 difference between year 21 and 22\n",
    "\n",
    "apartment_types_num = ['type10','type13','type09','type15','type04','type07','type17','type12']"
   ]
  },
  {
   "cell_type": "code",
   "execution_count": 72,
   "id": "4480fa6e",
   "metadata": {},
   "outputs": [],
   "source": [
    "#Separate apartment type buildings'\n",
    "\n",
    "sales_apart_21_q1 = sales_21_q1[sales_21_q1['building_class_num'].isin(apartment_types_num)]\n",
    "sales_apart_22_q1 = sales_22_q1[sales_22_q1['building_class_num'].isin(apartment_types_num)]"
   ]
  },
  {
   "cell_type": "code",
   "execution_count": 73,
   "id": "cb10fec1",
   "metadata": {},
   "outputs": [
    {
     "data": {
      "text/plain": [
       "type13    3425\n",
       "type10    3345\n",
       "type09     623\n",
       "type07     444\n",
       "type15     412\n",
       "type17     337\n",
       "type04     313\n",
       "type12     195\n",
       "Name: building_class_num, dtype: int64"
      ]
     },
     "execution_count": 73,
     "metadata": {},
     "output_type": "execute_result"
    }
   ],
   "source": [
    "sales_apart_22_q1['building_class_num'].value_counts()"
   ]
  },
  {
   "cell_type": "code",
   "execution_count": 80,
   "id": "200594e8",
   "metadata": {},
   "outputs": [
    {
     "data": {
      "text/html": [
       "<div>\n",
       "<style scoped>\n",
       "    .dataframe tbody tr th:only-of-type {\n",
       "        vertical-align: middle;\n",
       "    }\n",
       "\n",
       "    .dataframe tbody tr th {\n",
       "        vertical-align: top;\n",
       "    }\n",
       "\n",
       "    .dataframe thead th {\n",
       "        text-align: right;\n",
       "    }\n",
       "</style>\n",
       "<table border=\"1\" class=\"dataframe\">\n",
       "  <thead>\n",
       "    <tr style=\"text-align: right;\">\n",
       "      <th></th>\n",
       "      <th>building_class_category</th>\n",
       "      <th>sale_inthousands</th>\n",
       "      <th>year</th>\n",
       "    </tr>\n",
       "    <tr>\n",
       "      <th>building_class_num</th>\n",
       "      <th></th>\n",
       "      <th></th>\n",
       "      <th></th>\n",
       "    </tr>\n",
       "  </thead>\n",
       "  <tbody>\n",
       "    <tr>\n",
       "      <th>type04</th>\n",
       "      <td>04 TAX CLASS 1 CONDOS</td>\n",
       "      <td>629.519667</td>\n",
       "      <td>2021</td>\n",
       "    </tr>\n",
       "    <tr>\n",
       "      <th>type07</th>\n",
       "      <td>07 RENTALS - WALKUP APARTMENTS</td>\n",
       "      <td>2504.266444</td>\n",
       "      <td>2021</td>\n",
       "    </tr>\n",
       "    <tr>\n",
       "      <th>type09</th>\n",
       "      <td>09 COOPS - WALKUP APARTMENTS</td>\n",
       "      <td>606.614817</td>\n",
       "      <td>2021</td>\n",
       "    </tr>\n",
       "    <tr>\n",
       "      <th>type10</th>\n",
       "      <td>10 COOPS - ELEVATOR APARTMENTS</td>\n",
       "      <td>803.638468</td>\n",
       "      <td>2021</td>\n",
       "    </tr>\n",
       "    <tr>\n",
       "      <th>type12</th>\n",
       "      <td>12 CONDOS - WALKUP APARTMENTS</td>\n",
       "      <td>873.011183</td>\n",
       "      <td>2021</td>\n",
       "    </tr>\n",
       "    <tr>\n",
       "      <th>type13</th>\n",
       "      <td>13 CONDOS - ELEVATOR APARTMENTS</td>\n",
       "      <td>1716.757788</td>\n",
       "      <td>2021</td>\n",
       "    </tr>\n",
       "    <tr>\n",
       "      <th>type15</th>\n",
       "      <td>15 CONDOS - 2-10 UNIT RESIDENTIAL</td>\n",
       "      <td>1348.215527</td>\n",
       "      <td>2021</td>\n",
       "    </tr>\n",
       "    <tr>\n",
       "      <th>type17</th>\n",
       "      <td>17 CONDO COOPS</td>\n",
       "      <td>917.519195</td>\n",
       "      <td>2021</td>\n",
       "    </tr>\n",
       "    <tr>\n",
       "      <th>type04</th>\n",
       "      <td>04 TAX CLASS 1 CONDOS</td>\n",
       "      <td>787.204147</td>\n",
       "      <td>2022</td>\n",
       "    </tr>\n",
       "    <tr>\n",
       "      <th>type07</th>\n",
       "      <td>07 RENTALS - WALKUP APARTMENTS</td>\n",
       "      <td>4696.207180</td>\n",
       "      <td>2022</td>\n",
       "    </tr>\n",
       "    <tr>\n",
       "      <th>type09</th>\n",
       "      <td>09 COOPS - WALKUP APARTMENTS</td>\n",
       "      <td>574.301104</td>\n",
       "      <td>2022</td>\n",
       "    </tr>\n",
       "    <tr>\n",
       "      <th>type10</th>\n",
       "      <td>10 COOPS - ELEVATOR APARTMENTS</td>\n",
       "      <td>1003.937246</td>\n",
       "      <td>2022</td>\n",
       "    </tr>\n",
       "    <tr>\n",
       "      <th>type12</th>\n",
       "      <td>12 CONDOS - WALKUP APARTMENTS</td>\n",
       "      <td>860.806195</td>\n",
       "      <td>2022</td>\n",
       "    </tr>\n",
       "    <tr>\n",
       "      <th>type13</th>\n",
       "      <td>13 CONDOS - ELEVATOR APARTMENTS</td>\n",
       "      <td>2171.017313</td>\n",
       "      <td>2022</td>\n",
       "    </tr>\n",
       "    <tr>\n",
       "      <th>type15</th>\n",
       "      <td>15 CONDOS - 2-10 UNIT RESIDENTIAL</td>\n",
       "      <td>1637.325981</td>\n",
       "      <td>2022</td>\n",
       "    </tr>\n",
       "    <tr>\n",
       "      <th>type17</th>\n",
       "      <td>17 CONDO COOPS</td>\n",
       "      <td>974.043012</td>\n",
       "      <td>2022</td>\n",
       "    </tr>\n",
       "  </tbody>\n",
       "</table>\n",
       "</div>"
      ],
      "text/plain": [
       "                              building_class_category  sale_inthousands  year\n",
       "building_class_num                                                           \n",
       "type04                          04 TAX CLASS 1 CONDOS        629.519667  2021\n",
       "type07                 07 RENTALS - WALKUP APARTMENTS       2504.266444  2021\n",
       "type09                   09 COOPS - WALKUP APARTMENTS        606.614817  2021\n",
       "type10                 10 COOPS - ELEVATOR APARTMENTS        803.638468  2021\n",
       "type12                  12 CONDOS - WALKUP APARTMENTS        873.011183  2021\n",
       "type13                13 CONDOS - ELEVATOR APARTMENTS       1716.757788  2021\n",
       "type15              15 CONDOS - 2-10 UNIT RESIDENTIAL       1348.215527  2021\n",
       "type17                                 17 CONDO COOPS        917.519195  2021\n",
       "type04                          04 TAX CLASS 1 CONDOS        787.204147  2022\n",
       "type07                 07 RENTALS - WALKUP APARTMENTS       4696.207180  2022\n",
       "type09                   09 COOPS - WALKUP APARTMENTS        574.301104  2022\n",
       "type10                 10 COOPS - ELEVATOR APARTMENTS       1003.937246  2022\n",
       "type12                  12 CONDOS - WALKUP APARTMENTS        860.806195  2022\n",
       "type13                13 CONDOS - ELEVATOR APARTMENTS       2171.017313  2022\n",
       "type15              15 CONDOS - 2-10 UNIT RESIDENTIAL       1637.325981  2022\n",
       "type17                                 17 CONDO COOPS        974.043012  2022"
      ]
     },
     "execution_count": 80,
     "metadata": {},
     "output_type": "execute_result"
    }
   ],
   "source": [
    "#groupby building type \n",
    "\n",
    "\n",
    "### *** do for both 21 and 22 and then graph it \n",
    "\n",
    "sale_build_21 = sales_apart_21_q1[['building_class_num','building_class_category','sale_inthousands']]\n",
    "sale_build_22 = sales_apart_22_q1[['building_class_num','building_class_category','sale_inthousands']]\n",
    "\n",
    "sb21 = sale_build_21.groupby('building_class_num').agg({'building_class_category':'first','sale_inthousands':'mean'})\n",
    "sb22 = sale_build_22.groupby('building_class_num').agg({'building_class_category':'first','sale_inthousands':'mean'})\n",
    "\n",
    "#sb21.sort_values(by='sale_inthousands', ascending=False),sb22.sort_values(by='sale_inthousands', ascending=False)\n",
    "  \n",
    "sb21_22 = pd.concat([sb21,sb22])\n",
    "sb21_22['year'] = [2021,2021,2021,2021,2021,2021,2021,2021,2022,2022,2022,2022,2022,2022,2022,2022]\n",
    "sb21_22"
   ]
  },
  {
   "cell_type": "code",
   "execution_count": 81,
   "id": "210636c8",
   "metadata": {},
   "outputs": [
    {
     "data": {
      "image/png": "[encoded data removed]",
      "text/plain": [
       "<Figure size 496.1x432 with 1 Axes>"
      ]
     },
     "metadata": {},
     "output_type": "display_data"
    }
   ],
   "source": [
    "#lets visualize it\n",
    "\n",
    "g = sns.catplot(\n",
    "    data=sb21_22, kind=\"bar\",\n",
    "    x=\"building_class_category\", y=\"sale_inthousands\", hue=\"year\",\n",
    "    ci=\"sd\", palette=\"dark\", alpha=.6, height=6, \n",
    ")\n",
    "g.despine(left=True)\n",
    "g.set_axis_labels(\"\", \"sales in 1000s\")\n",
    "g.legend.set_title(\"\")\n",
    "g.set_xticklabels(rotation=80)\n",
    "\n",
    "plt.title('Q1 2021 vs Q2 2022 of apartment-type buildings')\n",
    "plt.show()"
   ]
  },
  {
   "cell_type": "markdown",
   "id": "f59b9f90",
   "metadata": {},
   "source": [
    "For apartment-type buildings, there has been a significant increase in sales volume across all types of buildings year to year in quarter 1."
   ]
  },
  {
   "cell_type": "code",
   "execution_count": 103,
   "id": "cf373018",
   "metadata": {},
   "outputs": [
    {
     "data": {
      "text/html": [
       "<div>\n",
       "<style scoped>\n",
       "    .dataframe tbody tr th:only-of-type {\n",
       "        vertical-align: middle;\n",
       "    }\n",
       "\n",
       "    .dataframe tbody tr th {\n",
       "        vertical-align: top;\n",
       "    }\n",
       "\n",
       "    .dataframe thead th {\n",
       "        text-align: right;\n",
       "    }\n",
       "</style>\n",
       "<table border=\"1\" class=\"dataframe\">\n",
       "  <thead>\n",
       "    <tr style=\"text-align: right;\">\n",
       "      <th></th>\n",
       "      <th>borough</th>\n",
       "      <th>year</th>\n",
       "      <th>sale_price_inthousands</th>\n",
       "    </tr>\n",
       "  </thead>\n",
       "  <tbody>\n",
       "    <tr>\n",
       "      <th>0</th>\n",
       "      <td>manhattan</td>\n",
       "      <td>2021 Q1</td>\n",
       "      <td>1786.924305</td>\n",
       "    </tr>\n",
       "    <tr>\n",
       "      <th>1</th>\n",
       "      <td>brooklyn</td>\n",
       "      <td>2021 Q1</td>\n",
       "      <td>983.699918</td>\n",
       "    </tr>\n",
       "    <tr>\n",
       "      <th>2</th>\n",
       "      <td>queens</td>\n",
       "      <td>2021 Q1</td>\n",
       "      <td>521.854332</td>\n",
       "    </tr>\n",
       "    <tr>\n",
       "      <th>3</th>\n",
       "      <td>bronx</td>\n",
       "      <td>2021 Q1</td>\n",
       "      <td>451.264661</td>\n",
       "    </tr>\n",
       "    <tr>\n",
       "      <th>4</th>\n",
       "      <td>statenisland</td>\n",
       "      <td>2021 Q1</td>\n",
       "      <td>374.806860</td>\n",
       "    </tr>\n",
       "    <tr>\n",
       "      <th>5</th>\n",
       "      <td>manhattan</td>\n",
       "      <td>2022 Q2</td>\n",
       "      <td>2331.573420</td>\n",
       "    </tr>\n",
       "    <tr>\n",
       "      <th>6</th>\n",
       "      <td>brooklyn</td>\n",
       "      <td>2022 Q2</td>\n",
       "      <td>1111.488045</td>\n",
       "    </tr>\n",
       "    <tr>\n",
       "      <th>7</th>\n",
       "      <td>queens</td>\n",
       "      <td>2022 Q2</td>\n",
       "      <td>959.498722</td>\n",
       "    </tr>\n",
       "    <tr>\n",
       "      <th>8</th>\n",
       "      <td>bronx</td>\n",
       "      <td>2022 Q2</td>\n",
       "      <td>626.317542</td>\n",
       "    </tr>\n",
       "    <tr>\n",
       "      <th>9</th>\n",
       "      <td>statenisland</td>\n",
       "      <td>2022 Q2</td>\n",
       "      <td>474.261684</td>\n",
       "    </tr>\n",
       "  </tbody>\n",
       "</table>\n",
       "</div>"
      ],
      "text/plain": [
       "        borough     year  sale_price_inthousands\n",
       "0     manhattan  2021 Q1             1786.924305\n",
       "1      brooklyn  2021 Q1              983.699918\n",
       "2        queens  2021 Q1              521.854332\n",
       "3         bronx  2021 Q1              451.264661\n",
       "4  statenisland  2021 Q1              374.806860\n",
       "5     manhattan  2022 Q2             2331.573420\n",
       "6      brooklyn  2022 Q2             1111.488045\n",
       "7        queens  2022 Q2              959.498722\n",
       "8         bronx  2022 Q2              626.317542\n",
       "9  statenisland  2022 Q2              474.261684"
      ]
     },
     "execution_count": 103,
     "metadata": {},
     "output_type": "execute_result"
    }
   ],
   "source": [
    "## lets look at q1 difference between years for boroughs (mean)\n",
    "\n",
    "sale_bor_21 = sales_apart_21_q1[['borough','sale_inthousands']]\n",
    "sale_bor_22 = sales_apart_22_q1[['borough','sale_inthousands']]\n",
    "\n",
    "sbor21 = sale_bor_21.groupby('borough').agg({'borough':'first','sale_inthousands':'mean'})\n",
    "sbor22 = sale_bor_22.groupby('borough').agg({'borough':'first','sale_inthousands':'mean'})\n",
    "\n",
    "sbor21.reset_index(inplace=True,drop=True)\n",
    "sbor22.reset_index(inplace=True,drop=True)\n",
    "\n",
    "sbor21['borough'].replace({1:'manhattan', 2:'bronx', 3:'brooklyn', 4:'queens', 5:'statenisland'}, inplace=True)\n",
    "sbor22['borough'].replace({1:'manhattan', 2:'bronx', 3:'brooklyn', 4:'queens', 5:'statenisland'}, inplace=True)\n",
    "\n",
    "a1 = sbor21.sort_values(by='sale_inthousands', ascending=False)\n",
    "b1 = sbor22.sort_values(by='sale_inthousands', ascending=False)\n",
    "c1 = pd.concat([a1,b1['sale_inthousands']],axis=1)\n",
    "c1.columns = ['borough','2021 Q1','2022 Q2']\n",
    "d1 = pd.melt(c1, id_vars=['borough'], value_vars=['2021 Q1','2022 Q2'],var_name= 'year',value_name='sale_price_inthousands')\n",
    "d1"
   ]
  },
  {
   "cell_type": "code",
   "execution_count": 113,
   "id": "5120ac5e",
   "metadata": {},
   "outputs": [
    {
     "data": {
      "image/png": "[encoded data removed]",
      "text/plain": [
       "<Figure size 513.725x432 with 1 Axes>"
      ]
     },
     "metadata": {},
     "output_type": "display_data"
    }
   ],
   "source": [
    "g = sns.catplot(\n",
    "    data=d1, kind=\"bar\",\n",
    "    x=\"borough\", y=\"sale_price_inthousands\", hue=\"year\",\n",
    "    ci=\"sd\", palette=\"bright\", alpha=.6, height=6\n",
    ")\n",
    "g.despine(left=True)\n",
    "g.set_axis_labels(\"\", \"AVG Sales price in 1000's\")\n",
    "\n",
    "plt.title('Average sales price in q1')\n",
    "plt.show()"
   ]
  },
  {
   "cell_type": "markdown",
   "id": "6f0f060b",
   "metadata": {},
   "source": [
    "There has been an increase in average prices across the board in all boroughs of NYC year to year in Q1\n",
    "\n",
    "Now, total sales volume comparison between the years:"
   ]
  },
  {
   "cell_type": "code",
   "execution_count": 108,
   "id": "b7a30010",
   "metadata": {},
   "outputs": [
    {
     "data": {
      "text/html": [
       "<div>\n",
       "<style scoped>\n",
       "    .dataframe tbody tr th:only-of-type {\n",
       "        vertical-align: middle;\n",
       "    }\n",
       "\n",
       "    .dataframe tbody tr th {\n",
       "        vertical-align: top;\n",
       "    }\n",
       "\n",
       "    .dataframe thead th {\n",
       "        text-align: right;\n",
       "    }\n",
       "</style>\n",
       "<table border=\"1\" class=\"dataframe\">\n",
       "  <thead>\n",
       "    <tr style=\"text-align: right;\">\n",
       "      <th></th>\n",
       "      <th>borough</th>\n",
       "      <th>year</th>\n",
       "      <th>sale_price_inmillions</th>\n",
       "    </tr>\n",
       "  </thead>\n",
       "  <tbody>\n",
       "    <tr>\n",
       "      <th>0</th>\n",
       "      <td>manhattan</td>\n",
       "      <td>2021 Q1</td>\n",
       "      <td>5491.218389</td>\n",
       "    </tr>\n",
       "    <tr>\n",
       "      <th>1</th>\n",
       "      <td>brooklyn</td>\n",
       "      <td>2021 Q1</td>\n",
       "      <td>1868.046144</td>\n",
       "    </tr>\n",
       "    <tr>\n",
       "      <th>2</th>\n",
       "      <td>queens</td>\n",
       "      <td>2021 Q1</td>\n",
       "      <td>830.270243</td>\n",
       "    </tr>\n",
       "    <tr>\n",
       "      <th>3</th>\n",
       "      <td>bronx</td>\n",
       "      <td>2021 Q1</td>\n",
       "      <td>174.639424</td>\n",
       "    </tr>\n",
       "    <tr>\n",
       "      <th>4</th>\n",
       "      <td>statenisland</td>\n",
       "      <td>2021 Q1</td>\n",
       "      <td>69.714076</td>\n",
       "    </tr>\n",
       "    <tr>\n",
       "      <th>5</th>\n",
       "      <td>manhattan</td>\n",
       "      <td>2022 Q2</td>\n",
       "      <td>9864.887141</td>\n",
       "    </tr>\n",
       "    <tr>\n",
       "      <th>6</th>\n",
       "      <td>brooklyn</td>\n",
       "      <td>2022 Q2</td>\n",
       "      <td>2549.753575</td>\n",
       "    </tr>\n",
       "    <tr>\n",
       "      <th>7</th>\n",
       "      <td>queens</td>\n",
       "      <td>2022 Q2</td>\n",
       "      <td>1891.171981</td>\n",
       "    </tr>\n",
       "    <tr>\n",
       "      <th>8</th>\n",
       "      <td>bronx</td>\n",
       "      <td>2022 Q2</td>\n",
       "      <td>265.558638</td>\n",
       "    </tr>\n",
       "    <tr>\n",
       "      <th>9</th>\n",
       "      <td>statenisland</td>\n",
       "      <td>2022 Q2</td>\n",
       "      <td>82.521533</td>\n",
       "    </tr>\n",
       "  </tbody>\n",
       "</table>\n",
       "</div>"
      ],
      "text/plain": [
       "        borough     year  sale_price_inmillions\n",
       "0     manhattan  2021 Q1            5491.218389\n",
       "1      brooklyn  2021 Q1            1868.046144\n",
       "2        queens  2021 Q1             830.270243\n",
       "3         bronx  2021 Q1             174.639424\n",
       "4  statenisland  2021 Q1              69.714076\n",
       "5     manhattan  2022 Q2            9864.887141\n",
       "6      brooklyn  2022 Q2            2549.753575\n",
       "7        queens  2022 Q2            1891.171981\n",
       "8         bronx  2022 Q2             265.558638\n",
       "9  statenisland  2022 Q2              82.521533"
      ]
     },
     "execution_count": 108,
     "metadata": {},
     "output_type": "execute_result"
    }
   ],
   "source": [
    "## lets look at q1 difference between years for boroughs (sum)\n",
    "\n",
    "sale_bor_21 = sales_apart_21_q1[['borough','sale_inmillions']]\n",
    "sale_bor_22 = sales_apart_22_q1[['borough','sale_inmillions']]\n",
    "\n",
    "sumbor21 = sale_bor_21.groupby('borough').agg({'borough':'first','sale_inmillions':'sum'})\n",
    "sumbor22 = sale_bor_22.groupby('borough').agg({'borough':'first','sale_inmillions':'sum'})\n",
    "\n",
    "sumbor21.reset_index(inplace=True,drop=True)\n",
    "sumbor22.reset_index(inplace=True,drop=True)\n",
    "\n",
    "sumbor21['borough'].replace({1:'manhattan', 2:'bronx', 3:'brooklyn', 4:'queens', 5:'statenisland'}, inplace=True)\n",
    "sumbor22['borough'].replace({1:'manhattan', 2:'bronx', 3:'brooklyn', 4:'queens', 5:'statenisland'}, inplace=True)\n",
    "\n",
    "a2 = sumbor21.sort_values(by='sale_inmillions', ascending=False)\n",
    "b2 = sumbor22.sort_values(by='sale_inmillions', ascending=False)\n",
    "c2 = pd.concat([a2,b2['sale_inmillions']],axis=1)\n",
    "c2.columns = ['borough','2021 Q1','2022 Q2']\n",
    "d2 = pd.melt(c2, id_vars=['borough'], value_vars=['2021 Q1','2022 Q2'],var_name= 'year',value_name='sale_price_inmillions')\n",
    "d2"
   ]
  },
  {
   "cell_type": "code",
   "execution_count": 112,
   "id": "ce9a3294",
   "metadata": {},
   "outputs": [
    {
     "data": {
      "image/png": "[encoded data removed]",
      "text/plain": [
       "<Figure size 513.725x432 with 1 Axes>"
      ]
     },
     "metadata": {},
     "output_type": "display_data"
    }
   ],
   "source": [
    "g = sns.catplot(\n",
    "    data=d2, kind=\"bar\",\n",
    "    x=\"borough\", y=\"sale_price_inmillions\", hue=\"year\",\n",
    "    ci=\"sd\", palette=\"bright\", alpha=.6, height=6\n",
    ")\n",
    "g.despine(left=True)\n",
    "g.set_axis_labels(\"\", \"Volume of sales in 1,000,000s\")\n",
    "\n",
    "plt.title('Total sales volume for quarter 1')\n",
    "plt.show()"
   ]
  },
  {
   "cell_type": "markdown",
   "id": "0963ef2e",
   "metadata": {},
   "source": [
    "Like mean prices, the overall volume has increased significantly year over year. Manhattan dominates the sales volumes overall for the 5 boroughs"
   ]
  },
  {
   "cell_type": "markdown",
   "id": "6fdb2607",
   "metadata": {},
   "source": [
    "With a good overview of sales in NYC, we might also want to explore other variables that may be affecting the value of buildings across the city. A common thing to look at is vacancy, which we have data on provided by the local goverment of NYC here: https://data.cityofnewyork.us/City-Government/Storefronts-Reported-Vacant-or-Not/92iy-9c3n"
   ]
  },
  {
   "cell_type": "markdown",
   "id": "28f8c327",
   "metadata": {},
   "source": [
    "## Storefronts reported vacant\n",
    "\n",
    "This data set provides us with data on storefronts vacancies. Storefront vacancies have a negative social effects on communities and also a negative effect on sales prices for properties. Lets first start with what type of businesses have the most storefront across all 5 boroughs."
   ]
  },
  {
   "cell_type": "code",
   "execution_count": 85,
   "id": "bd6421ee",
   "metadata": {},
   "outputs": [
    {
     "data": {
      "text/plain": [
       "RETAIL                              42382\n",
       "FOOD SERVICES                       28313\n",
       "OTHER                               23842\n",
       "NO BUSINESS ACTIVITY IDENTIFIED     21570\n",
       "MISCELLANEOUS OTHER SERVICE         10974\n",
       "HEALTH CARE or SOCIAL ASSISTANCE     4531\n",
       "HEALTH CARE OR SOCIAL ASSISTANCE     4213\n",
       "FINANCE & INSURANCE                  3681\n",
       "REAL ESTATE                          3338\n",
       "EDUCATIONAL SERVICES                 1837\n",
       "WHOLESALE                            1733\n",
       "ACCOUNTING SERVICES                  1179\n",
       "LEGAL SERVICES                        895\n",
       "MANUFACTURING                         834\n",
       "INFORMATION SERVICES                  567\n",
       "BROADCASTING/TELECOMM                 480\n",
       "MOVIES/VIDEO/SOUND                    330\n",
       "PUBLISHING                             91\n",
       "Name: PRIMARY BUSINESS ACTIVITY, dtype: int64"
      ]
     },
     "execution_count": 85,
     "metadata": {},
     "output_type": "execute_result"
    }
   ],
   "source": [
    "# What type of businesses have storefronts in NYC?\n",
    "\n",
    "vacancy = pd.read_csv('Storefronts_Reported_Vacant_or_Not.csv')\n",
    "vacancy['PRIMARY BUSINESS ACTIVITY'].value_counts()"
   ]
  },
  {
   "cell_type": "markdown",
   "id": "fa263ead",
   "metadata": {},
   "source": [
    "It seems intuitive that the most common ones are retail stores and restaurant-type businesses. That is what one sees the most walking around the streets of NYC."
   ]
  },
  {
   "cell_type": "code",
   "execution_count": 87,
   "id": "debe5dc6",
   "metadata": {},
   "outputs": [
    {
     "data": {
      "text/plain": [
       "Index(['Reporting Year', 'BOROUGH-BLOCK-LOT',\n",
       "       'PROPERTY STREET ADDRESS OR STOREFRONT ADDRESS', 'BOROUGH', 'ZIP CODE',\n",
       "       'SOLD DATE', 'VACANT ON 12/31', 'CONSTRUCTION REPORTED',\n",
       "       'VACANT 6/30 OR DATE SOLD IF EARLIER', 'PRIMARY BUSINESS ACTIVITY',\n",
       "       'PROPERTY NUMBER', 'PROPERTY STREET', 'UNIT', 'BOROUGH 1', 'POSTCODE',\n",
       "       'LATITUDE', 'LONGITUDE', 'COMMUNITY BOARD', 'COUNCIL DISTRICT',\n",
       "       'CENSUS TRACT', 'BIN', 'BBL', 'NTA', 'NBHD'],\n",
       "      dtype='object')"
      ]
     },
     "execution_count": 87,
     "metadata": {},
     "output_type": "execute_result"
    }
   ],
   "source": [
    "## There are alot of columns we are not interested in at the moment for looking at vacancy \n",
    "\n",
    "vacancy.columns"
   ]
  },
  {
   "cell_type": "code",
   "execution_count": 88,
   "id": "65a7bfbb",
   "metadata": {},
   "outputs": [
    {
     "data": {
      "text/plain": [
       "2020 and 2021    75540\n",
       "2019 and 2020    75250\n",
       "Name: Reporting Year, dtype: int64"
      ]
     },
     "execution_count": 88,
     "metadata": {},
     "output_type": "execute_result"
    }
   ],
   "source": [
    "# Number of reports for each year are about the same\n",
    "\n",
    "vacancy['Reporting Year'].value_counts()"
   ]
  },
  {
   "cell_type": "code",
   "execution_count": 89,
   "id": "eeaed93a",
   "metadata": {},
   "outputs": [
    {
     "name": "stdout",
     "output_type": "stream",
     "text": [
      "<class 'pandas.core.frame.DataFrame'>\n",
      "RangeIndex: 150790 entries, 0 to 150789\n",
      "Data columns (total 24 columns):\n",
      " #   Column                                         Non-Null Count   Dtype  \n",
      "---  ------                                         --------------   -----  \n",
      " 0   Reporting Year                                 150790 non-null  object \n",
      " 1   BOROUGH-BLOCK-LOT                              150790 non-null  int64  \n",
      " 2   PROPERTY STREET ADDRESS OR STOREFRONT ADDRESS  150789 non-null  object \n",
      " 3   BOROUGH                                        150790 non-null  object \n",
      " 4   ZIP CODE                                       149719 non-null  float64\n",
      " 5   SOLD DATE                                      201 non-null     object \n",
      " 6   VACANT ON 12/31                                150790 non-null  object \n",
      " 7   CONSTRUCTION REPORTED                          881 non-null     object \n",
      " 8   VACANT 6/30 OR DATE SOLD IF EARLIER            7142 non-null    object \n",
      " 9   PRIMARY BUSINESS ACTIVITY                      150790 non-null  object \n",
      " 10  PROPERTY NUMBER                                150362 non-null  object \n",
      " 11  PROPERTY STREET                                150653 non-null  object \n",
      " 12  UNIT                                           14511 non-null   object \n",
      " 13  BOROUGH 1                                      150790 non-null  object \n",
      " 14  POSTCODE                                       150790 non-null  int64  \n",
      " 15  LATITUDE                                       144958 non-null  float64\n",
      " 16  LONGITUDE                                      144958 non-null  float64\n",
      " 17  COMMUNITY BOARD                                150665 non-null  float64\n",
      " 18  COUNCIL DISTRICT                               150790 non-null  int64  \n",
      " 19  CENSUS TRACT                                   150790 non-null  object \n",
      " 20  BIN                                            149812 non-null  float64\n",
      " 21  BBL                                            150790 non-null  int64  \n",
      " 22  NTA                                            150707 non-null  object \n",
      " 23  NBHD                                           150710 non-null  object \n",
      "dtypes: float64(5), int64(4), object(15)\n",
      "memory usage: 27.6+ MB\n"
     ]
    }
   ],
   "source": [
    "#sold date and construction reported seem to be small enough that we can ignore for now \n",
    "\n",
    "vacancy.info()"
   ]
  },
  {
   "cell_type": "markdown",
   "id": "63ab90bb",
   "metadata": {},
   "source": [
    "In the next few steps, we are going to quickly clean and format in a similar way to what we did to sales data:"
   ]
  },
  {
   "cell_type": "code",
   "execution_count": 90,
   "id": "732c2583",
   "metadata": {},
   "outputs": [],
   "source": [
    "\n",
    "\n",
    "vacancy.columns = vacancy.columns.str.lower()\n",
    "vacancy.columns = vacancy.columns.str.replace(\" \", \"_\")"
   ]
  },
  {
   "cell_type": "code",
   "execution_count": 91,
   "id": "a2e5d9f7",
   "metadata": {},
   "outputs": [],
   "source": [
    "# we are going to droop the individually identifying information \n",
    "# and anything more specific than neighborhood\n",
    "\n",
    "vacancy.drop(columns=['property_street_address_or_storefront_address','borough-block-lot',\n",
    "                      'property_number', 'property_street', 'unit', 'borough_1', 'postcode',\n",
    "       'latitude', 'longitude', 'community_board', 'council_district','zip_code',\n",
    "       'census_tract', 'bbl', 'nta', 'nbhd','sold_date'], inplace=True)"
   ]
  },
  {
   "cell_type": "code",
   "execution_count": 92,
   "id": "0129aebe",
   "metadata": {},
   "outputs": [],
   "source": [
    "# formatting vacancy columns\n",
    "\n",
    "vacancy['vacant_on_12/31'].replace({'YES':True,'NO':False},inplace=True)\n",
    "vacancy['vacant_6/30_or_date_sold_if_earlier'].replace({'YES':True,np.nan:False},inplace=True)"
   ]
  },
  {
   "cell_type": "code",
   "execution_count": 93,
   "id": "4e9d2418",
   "metadata": {},
   "outputs": [],
   "source": [
    "vacancy.rename(columns={'vacant_6/30_or_date_sold_if_earlier':'vacant_on_6/30'},inplace=True)"
   ]
  },
  {
   "cell_type": "code",
   "execution_count": 94,
   "id": "18a039e7",
   "metadata": {},
   "outputs": [
    {
     "data": {
      "text/plain": [
       "(15482, 7142)"
      ]
     },
     "execution_count": 94,
     "metadata": {},
     "output_type": "execute_result"
    }
   ],
   "source": [
    "len(vacancy[vacancy['vacant_on_12/31']]),len(vacancy[vacancy['vacant_on_6/30']==True])"
   ]
  },
  {
   "cell_type": "markdown",
   "id": "5118bc0a",
   "metadata": {},
   "source": [
    "For clarity, we are going to focus on vacancies as of the end of June for both years:"
   ]
  },
  {
   "cell_type": "code",
   "execution_count": 97,
   "id": "0f4b4b07",
   "metadata": {},
   "outputs": [
    {
     "name": "stderr",
     "output_type": "stream",
     "text": [
      "/Users/snoopymartinmar/opt/anaconda3/lib/python3.9/site-packages/pandas/core/frame.py:5039: SettingWithCopyWarning: \n",
      "A value is trying to be set on a copy of a slice from a DataFrame\n",
      "\n",
      "See the caveats in the documentation: https://pandas.pydata.org/pandas-docs/stable/user_guide/indexing.html#returning-a-view-versus-a-copy\n",
      "  return super().rename(\n",
      "/Users/snoopymartinmar/opt/anaconda3/lib/python3.9/site-packages/pandas/core/generic.py:6619: SettingWithCopyWarning: \n",
      "A value is trying to be set on a copy of a slice from a DataFrame\n",
      "\n",
      "See the caveats in the documentation: https://pandas.pydata.org/pandas-docs/stable/user_guide/indexing.html#returning-a-view-versus-a-copy\n",
      "  return self._update_inplace(result)\n"
     ]
    },
    {
     "data": {
      "text/html": [
       "<div>\n",
       "<style scoped>\n",
       "    .dataframe tbody tr th:only-of-type {\n",
       "        vertical-align: middle;\n",
       "    }\n",
       "\n",
       "    .dataframe tbody tr th {\n",
       "        vertical-align: top;\n",
       "    }\n",
       "\n",
       "    .dataframe thead th {\n",
       "        text-align: right;\n",
       "    }\n",
       "</style>\n",
       "<table border=\"1\" class=\"dataframe\">\n",
       "  <thead>\n",
       "    <tr style=\"text-align: right;\">\n",
       "      <th></th>\n",
       "      <th>borough</th>\n",
       "      <th>year</th>\n",
       "      <th>vacant_on_6/30</th>\n",
       "    </tr>\n",
       "  </thead>\n",
       "  <tbody>\n",
       "    <tr>\n",
       "      <th>0</th>\n",
       "      <td>BRONX</td>\n",
       "      <td>2020</td>\n",
       "      <td>10474</td>\n",
       "    </tr>\n",
       "    <tr>\n",
       "      <th>1</th>\n",
       "      <td>BRONX</td>\n",
       "      <td>2021</td>\n",
       "      <td>10569</td>\n",
       "    </tr>\n",
       "    <tr>\n",
       "      <th>2</th>\n",
       "      <td>BROOKLYN</td>\n",
       "      <td>2020</td>\n",
       "      <td>17962</td>\n",
       "    </tr>\n",
       "    <tr>\n",
       "      <th>3</th>\n",
       "      <td>BROOKLYN</td>\n",
       "      <td>2021</td>\n",
       "      <td>18202</td>\n",
       "    </tr>\n",
       "    <tr>\n",
       "      <th>4</th>\n",
       "      <td>MANHATTAN</td>\n",
       "      <td>2020</td>\n",
       "      <td>26819</td>\n",
       "    </tr>\n",
       "    <tr>\n",
       "      <th>5</th>\n",
       "      <td>MANHATTAN</td>\n",
       "      <td>2021</td>\n",
       "      <td>26723</td>\n",
       "    </tr>\n",
       "    <tr>\n",
       "      <th>6</th>\n",
       "      <td>QUEENS</td>\n",
       "      <td>2020</td>\n",
       "      <td>16662</td>\n",
       "    </tr>\n",
       "    <tr>\n",
       "      <th>7</th>\n",
       "      <td>QUEENS</td>\n",
       "      <td>2021</td>\n",
       "      <td>16757</td>\n",
       "    </tr>\n",
       "    <tr>\n",
       "      <th>8</th>\n",
       "      <td>STATEN ISLAND</td>\n",
       "      <td>2020</td>\n",
       "      <td>3333</td>\n",
       "    </tr>\n",
       "    <tr>\n",
       "      <th>9</th>\n",
       "      <td>STATEN ISLAND</td>\n",
       "      <td>2021</td>\n",
       "      <td>3289</td>\n",
       "    </tr>\n",
       "  </tbody>\n",
       "</table>\n",
       "</div>"
      ],
      "text/plain": [
       "         borough  year  vacant_on_6/30\n",
       "0          BRONX  2020           10474\n",
       "1          BRONX  2021           10569\n",
       "2       BROOKLYN  2020           17962\n",
       "3       BROOKLYN  2021           18202\n",
       "4      MANHATTAN  2020           26819\n",
       "5      MANHATTAN  2021           26723\n",
       "6         QUEENS  2020           16662\n",
       "7         QUEENS  2021           16757\n",
       "8  STATEN ISLAND  2020            3333\n",
       "9  STATEN ISLAND  2021            3289"
      ]
     },
     "execution_count": 97,
     "metadata": {},
     "output_type": "execute_result"
    }
   ],
   "source": [
    "#We are going to focus on the vacancies during end of june for both years \n",
    "\n",
    "vacancy_midyear = vacancy[['reporting_year','primary_business_activity','borough','vacant_on_6/30']]\n",
    "vacancy_midyear.rename(columns={'reporting_year':'year'},inplace=True)\n",
    "vacancy_midyear['year'].replace({'2019 and 2020':'2020','2020 and 2021':'2021'},inplace=True)\n",
    "v_my = vacancy_midyear[['year','borough','vacant_on_6/30']].groupby(['borough','year']).count()\n",
    "v_my.reset_index(inplace=True)\n",
    "v_my"
   ]
  },
  {
   "cell_type": "code",
   "execution_count": 98,
   "id": "e33b7f9e",
   "metadata": {},
   "outputs": [
    {
     "data": {
      "image/png": "[encoded data removed]",
      "text/plain": [
       "<Figure size 496.1x432 with 1 Axes>"
      ]
     },
     "metadata": {},
     "output_type": "display_data"
    }
   ],
   "source": [
    "g = sns.catplot(\n",
    "    data=v_my, kind=\"bar\",\n",
    "    x=\"borough\", y=\"vacant_on_6/30\", hue=\"year\",\n",
    "    ci=\"sd\", palette=\"deep\", alpha=.6, height=6\n",
    ")\n",
    "g.despine(left=True)\n",
    "g.set_axis_labels(\"\", \"number of vacancies\")\n",
    "g.legend.set_title(\"\")\n",
    "\n",
    "plt.title('Number of Vacancies x borough')\n",
    "plt.show()"
   ]
  },
  {
   "cell_type": "markdown",
   "id": "9ba1d2ce",
   "metadata": {},
   "source": [
    "The change seems to be very small compared to the overall amount of vacant storefronts. This would require further research to see why these numbers don't change very much and understand which factors affect vacancy rates."
   ]
  },
  {
   "cell_type": "markdown",
   "id": "50bfd548",
   "metadata": {},
   "source": [
    "## Conclusion \n",
    "\n",
    "There has been a significant increase in sales prices year over year across all 5 boroughs, in terms of average sale price and volume. Manhattan dominates in terms of sales volume for properties. It would be interesting to investigate how much of the price our 4 positively-correlated quantitative columns can explain. Also, creating a vacancy rate and adding that to the regression (along with other indexes) in order to try to explain prices can help us create a fairly strong model for predicting prices in the NYC area. "
   ]
  },
  {
   "cell_type": "code",
   "execution_count": null,
   "id": "be4ec0ec",
   "metadata": {},
   "outputs": [],
   "source": []
  }
 ],
 "metadata": {
  "kernelspec": {
   "display_name": "Python 3 (ipykernel)",
   "language": "python",
   "name": "python3"
  },
  "language_info": {
   "codemirror_mode": {
    "name": "ipython",
    "version": 3
   },
   "file_extension": ".py",
   "mimetype": "text/x-python",
   "name": "python",
   "nbconvert_exporter": "python",
   "pygments_lexer": "ipython3",
   "version": "3.9.7"
  }
 },
 "nbformat": 4,
 "nbformat_minor": 5
}
